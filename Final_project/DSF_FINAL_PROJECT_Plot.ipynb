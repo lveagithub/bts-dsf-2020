{
 "cells": [
  {
   "cell_type": "code",
   "execution_count": null,
   "metadata": {},
   "outputs": [],
   "source": [
    "import matplotlib.pyplot as plt\n",
    "import seaborn as sns\n",
    "from statsmodels.graphics.gofplots import qqplot"
   ]
  },
  {
   "cell_type": "markdown",
   "metadata": {},
   "source": [
    "<h1 style=\"background-color:powderblue;\">Plotting Classes</h1>"
   ]
  },
  {
   "cell_type": "code",
   "execution_count": 1,
   "metadata": {},
   "outputs": [
    {
     "name": "stdout",
     "output_type": "stream",
     "text": [
      "Python 3.9.1\r\n"
     ]
    }
   ],
   "source": [
    "class PlottingHelper():\n",
    "    \"\"\"Cleaning Helper\"\"\"\n",
    "    def __init__(self, version):\n",
    "        self.version = version\n",
    "    \n",
    "    def __str__(self):\n",
    "        return f\"Plotting helper version {self.version}\"\n",
    "    \n",
    "    def count_categorical(self, df, x_var, ax_title, x_size, y_size, bar_color, box_aspect_radio):\n",
    "        sns.set(style=\"whitegrid\")\n",
    "\n",
    "        # Initialize the matplotlib figure\n",
    "        f, ax = plt.subplots(figsize=(x_size, y_size))\n",
    "\n",
    "        sns.set_color_codes(\"pastel\")\n",
    "        ax = sns.countplot(x=x_var, data=df, color = bar_color)\n",
    "\n",
    "        ax.set_title(ax_title, fontsize=16)\n",
    "        \n",
    "        ax.set_xticklabels(ax.get_xticklabels(), size = 10, rotation=40, ha=\"right\")\n",
    "        \n",
    "        #print(len(ax.patches))\n",
    "        ax.set_box_aspect(box_aspect_radio/len(ax.patches)) #change 10 to modify the y/x axis ratio\n",
    "\n",
    "        plt.show()"
   ]
  }
 ],
 "metadata": {
  "kernelspec": {
   "display_name": "Python [conda env:dsfinalproject]",
   "language": "python",
   "name": "conda-env-dsfinalproject-py"
  },
  "language_info": {
   "codemirror_mode": {
    "name": "ipython",
    "version": 3
   },
   "file_extension": ".py",
   "mimetype": "text/x-python",
   "name": "python",
   "nbconvert_exporter": "python",
   "pygments_lexer": "ipython3",
   "version": "3.9.1"
  }
 },
 "nbformat": 4,
 "nbformat_minor": 2
}
