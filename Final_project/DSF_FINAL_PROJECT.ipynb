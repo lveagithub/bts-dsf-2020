{
 "cells": [
  {
   "cell_type": "markdown",
   "metadata": {
    "id": "tUNzu8pXC5jh"
   },
   "source": [
    "![BTS](https://github.com/vfp1/bts-dsf-2020/blob/main/Logo-BTS.jpg?raw=1)\n",
    "\n",
    "# FINAL PROJECT\n",
    "\n",
    "### Victor F. Pajuelo Madrigal <victor.pajuelo@bts.tech> - Data Science Foundations (2020-10-29)\n",
    "\n",
    "Open this notebook in Google Colaboratory: [![Open in Colab](https://colab.research.google.com/assets/colab-badge.svg)](https://colab.research.google.com/github/vfp1/bts-dsf-2020/blob/main/Final_project/DSF_FINAL_PROJECT.ipynb)"
   ]
  },
  {
   "cell_type": "markdown",
   "metadata": {
    "id": "vM0SM4jCS1bS"
   },
   "source": [
    "# Regarding the final project for the class\n",
    "\n",
    "The final project for the class will need to draw from everything you have covered in class, at least everything relevant for your final project. For that you will need to choose a topic. You will be using **the image and text** datasets that we have seen on our sessions. \n",
    "\n",
    "It doesn't need to be a super revolutionary idea, but at least have in mind the issue of reducing the time between information and action. And you will need to send it to me. \n",
    "\n",
    "The project will need to contain the following steps:\n",
    "\n",
    "1. Ingesting, exploring and cleaning data for your project\n",
    "2. Choosing/testing of algorithm approach\n",
    "3. Visualizing the results\n",
    "4. Packaging the project into a product\n",
    "\n",
    "You will be using code from class to support you on the second, third and forth parts of the project. \n",
    "\n",
    "I am not looking for excellence, and I do not mind that you copy/paste code, but always try to understand why. "
   ]
  },
  {
   "cell_type": "code",
   "execution_count": 1528,
   "metadata": {
    "id": "5qAFxroDTP4J"
   },
   "outputs": [
    {
     "name": "stdout",
     "output_type": "stream",
     "text": [
      "The memory_profiler extension is already loaded. To reload it, use:\n",
      "  %reload_ext memory_profiler\n",
      "Python 3.9.1\n"
     ]
    }
   ],
   "source": [
    "%config IPCompleter.greedy=True\n",
    "%load_ext memory_profiler\n",
    "%matplotlib inline\n",
    "%run DSF_FINAL_PROJECT_Helper.ipynb\n",
    "%run DSF_FINAL_PROJECT_Plot.ipynb"
   ]
  },
  {
   "cell_type": "code",
   "execution_count": 1530,
   "metadata": {},
   "outputs": [],
   "source": [
    "#twitterAuthentication = TwitterAuthentication(version = \"1.0\")\n",
    "#twitterAuthentication.status()\n",
    "#print(twitterAuthentication)"
   ]
  },
  {
   "cell_type": "code",
   "execution_count": 1531,
   "metadata": {},
   "outputs": [
    {
     "name": "stdout",
     "output_type": "stream",
     "text": [
      "Path--> authentication/\n",
      "File--> twitter_auth.json\n"
     ]
    },
    {
     "data": {
      "text/plain": [
       "<tweepy.api.API at 0x7fea7a6dca30>"
      ]
     },
     "execution_count": 1531,
     "metadata": {},
     "output_type": "execute_result"
    }
   ],
   "source": [
    "twitterAuthentication = TwitterAuthentication(version = \"1.0\")\n",
    "api = twitterAuthentication.connect()\n",
    "api"
   ]
  },
  {
   "cell_type": "code",
   "execution_count": 1532,
   "metadata": {},
   "outputs": [],
   "source": [
    "#Connecting to sqlite3 database\n",
    "dbConn = Sqlite3Db('social_network.db')"
   ]
  },
  {
   "cell_type": "code",
   "execution_count": 1533,
   "metadata": {},
   "outputs": [],
   "source": [
    "#Creating tweet Dates table\n",
    "dbConn.query('''CREATE TABLE IF NOT EXISTS TweetDates(firstdate timestamp, lastdate timestamp)''')"
   ]
  },
  {
   "cell_type": "code",
   "execution_count": 1534,
   "metadata": {},
   "outputs": [],
   "source": [
    "#Creating tweets table\n",
    "dbConn.query('''CREATE TABLE IF NOT EXISTS Tweets(insert_timestamp timestamp, tweet_timestamp timestamp, tweet_term TEXT, tweet TEXT, place_type TEXT, place_name TEXT, place_full_name TEXT, place_country_code TEXT, place_country TEXT)''')"
   ]
  },
  {
   "cell_type": "code",
   "execution_count": 1535,
   "metadata": {},
   "outputs": [
    {
     "name": "stdout",
     "output_type": "stream",
     "text": [
      "180 77 2021-01-05 15:00:07\n"
     ]
    }
   ],
   "source": [
    "twitterProcess = TwitterProcess(api = api, dbConn = dbConn)\n",
    "limit, remaining, next_reset_time = twitterProcess.get_api_limits()\n",
    "print(limit, remaining, next_reset_time)"
   ]
  },
  {
   "cell_type": "code",
   "execution_count": 1536,
   "metadata": {},
   "outputs": [],
   "source": [
    "#Exit when we cannot continue\n",
    "if remaining == 0:\n",
    "    quit()"
   ]
  },
  {
   "cell_type": "code",
   "execution_count": 1374,
   "metadata": {},
   "outputs": [],
   "source": [
    "#end method 1"
   ]
  },
  {
   "cell_type": "code",
   "execution_count": 1375,
   "metadata": {},
   "outputs": [],
   "source": [
    "#start method 2"
   ]
  },
  {
   "cell_type": "code",
   "execution_count": 1376,
   "metadata": {},
   "outputs": [],
   "source": [
    "#end method 2"
   ]
  },
  {
   "cell_type": "code",
   "execution_count": 1377,
   "metadata": {},
   "outputs": [],
   "source": [
    "#start method 3"
   ]
  },
  {
   "cell_type": "code",
   "execution_count": 1537,
   "metadata": {},
   "outputs": [],
   "source": [
    "dbConn.query('''SELECT count(1) cant FROM TweetDates; ''')\n",
    "sql_stm_res = dbConn.cursor.fetchall()"
   ]
  },
  {
   "cell_type": "code",
   "execution_count": 1538,
   "metadata": {},
   "outputs": [
    {
     "data": {
      "text/plain": [
       "0"
      ]
     },
     "execution_count": 1538,
     "metadata": {},
     "output_type": "execute_result"
    }
   ],
   "source": [
    "sqlite3DbHelper = Sqlite3DbHelper(dbConn = dbConn)\n",
    "query_stm_res = sqlite3DbHelper.get_count_stm(sql_stm_res)\n",
    "query_stm_res"
   ]
  },
  {
   "cell_type": "code",
   "execution_count": 1539,
   "metadata": {},
   "outputs": [
    {
     "name": "stdout",
     "output_type": "stream",
     "text": [
      "2020-12-29 14:56:08.771686+00:00\n"
     ]
    }
   ],
   "source": [
    "firstdate = sqlite3DbHelper.get_timestamp_start_date()\n",
    "print(firstdate)"
   ]
  },
  {
   "cell_type": "code",
   "execution_count": 1540,
   "metadata": {},
   "outputs": [
    {
     "data": {
      "text/plain": [
       "datetime.datetime(1, 1, 1, 0, 0)"
      ]
     },
     "execution_count": 1540,
     "metadata": {},
     "output_type": "execute_result"
    }
   ],
   "source": [
    "dt.datetime.min"
   ]
  },
  {
   "cell_type": "code",
   "execution_count": 1541,
   "metadata": {},
   "outputs": [
    {
     "name": "stdout",
     "output_type": "stream",
     "text": [
      "one\n",
      "2020-12-29 14:56:11.549479+00:00\n",
      "2021-01-05 14:56:11.549497+00:00\n"
     ]
    }
   ],
   "source": [
    "firstdate, lastdate = sqlite3DbHelper.get_process_dates(query_stm_res)\n",
    "print(firstdate)\n",
    "print(lastdate)"
   ]
  },
  {
   "cell_type": "code",
   "execution_count": 1542,
   "metadata": {},
   "outputs": [],
   "source": [
    "#end method 3"
   ]
  },
  {
   "cell_type": "code",
   "execution_count": 1543,
   "metadata": {},
   "outputs": [
    {
     "data": {
      "text/plain": [
       "datetime.datetime(2020, 12, 29, 14, 56, 13, 27527, tzinfo=datetime.timezone.utc)"
      ]
     },
     "execution_count": 1543,
     "metadata": {},
     "output_type": "execute_result"
    }
   ],
   "source": [
    "getTimestampStartDate = sqlite3DbHelper.get_timestamp_start_date()\n",
    "getTimestampStartDate"
   ]
  },
  {
   "cell_type": "code",
   "execution_count": 1544,
   "metadata": {},
   "outputs": [
    {
     "data": {
      "text/plain": [
       "7"
      ]
     },
     "execution_count": 1544,
     "metadata": {},
     "output_type": "execute_result"
    }
   ],
   "source": [
    "days_to_subtract = sqlite3DbHelper.get_days_to_subtract()\n",
    "days_to_subtract"
   ]
  },
  {
   "cell_type": "code",
   "execution_count": 1545,
   "metadata": {},
   "outputs": [
    {
     "data": {
      "text/plain": [
       "datetime.datetime(2021, 1, 5, 14, 56, 11, 549497, tzinfo=datetime.timezone.utc)"
      ]
     },
     "execution_count": 1545,
     "metadata": {},
     "output_type": "execute_result"
    }
   ],
   "source": [
    "lastdate"
   ]
  },
  {
   "cell_type": "code",
   "execution_count": 1546,
   "metadata": {},
   "outputs": [
    {
     "name": "stdout",
     "output_type": "stream",
     "text": [
      "2020-12-29 - 2020-12-30\n",
      "2020-12-30 - 2020-12-31\n",
      "2020-12-31 - 2021-01-01\n",
      "2021-01-01 - 2021-01-02\n",
      "2021-01-02 - 2021-01-03\n",
      "2021-01-03 - 2021-01-04\n",
      "2021-01-04 - 2021-01-05\n"
     ]
    }
   ],
   "source": [
    "#start_date = datetime.date(2020, 11, 15)\n",
    "#end_date = datetime.date(2020, 11, 18)\n",
    "#start_date = firstdate.date()\n",
    "\n",
    "#start_date = lastdate.date()\n",
    "#end_date = lastdate.date() + dt.timedelta(days=1)\n",
    "#print(type(start_date))\n",
    "#print(type(end_date))\n",
    "#print(start_date)\n",
    "#print(end_date)\n",
    "\n",
    "start_date = firstdate.date()\n",
    "end_date = lastdate.date()\n",
    "\n",
    "delta = dt.timedelta(days=1)\n",
    "\n",
    "while start_date < end_date:\n",
    "    #dt_twitter_start = start_date\n",
    "    #dt_twitter_end   = start_date + (dt.timedelta(days=1))\n",
    "    dt_twitter_start = start_date\n",
    "    dt_twitter_end   = start_date + (dt.timedelta(days=1))\n",
    "    print(dt_twitter_start, \"-\", dt_twitter_end)\n",
    "    start_date += delta"
   ]
  },
  {
   "cell_type": "code",
   "execution_count": 1547,
   "metadata": {},
   "outputs": [
    {
     "name": "stdout",
     "output_type": "stream",
     "text": [
      "noOfSearch:1\n",
      "2020-12-29 - 2020-12-30\n",
      "b'Designed by: @acalypca\\n \\n#minimal #minimalposter #minimalart #covid_19 #mask #covid_19poster #corona #coronavirus\\xe2\\x80\\xa6 https://t.co/QzA2HLkYFO'\n",
      "b'RT @Mojahedineng: Over 193,900 people have died of the novel #coronavirus in 475 cities checkered across all of #Iran\\xe2\\x80\\x99s 31 provinces, accor\\xe2\\x80\\xa6'\n",
      "b'RT @TeamPelosi: Helping America\\xe2\\x80\\x99s working families to make it through hardship in this #covid crisis is a duty and a privilege for those of\\xe2\\x80\\xa6'\n",
      "b'https://t.co/920gxYLjmK watch this if you are in Georgia #COVID19 #Stimulus #ByeByeTrump #byebyemitch\\xe2\\x80\\xa6 https://t.co/fJuZFzgOrj'\n",
      "b'RT @LostToCovid: Fred Delgado - 65, Died Dec. 20. Soccer Coach area college, HS and club teams/camps 30+ years, Phoenix, AZ. Described as \\xe2\\x80\\x9c\\xe2\\x80\\xa6'\n",
      "b'RT @davidrliu: Updated #COVID19 #SARSCoV2 case timeline, with references cited and other improvements. PDF with embedded links to each refe\\xe2\\x80\\xa6'\n",
      "b\"RT @mstrubell: @oriolmitja Has the @TheLancet borne in mind that the job of one of the authors of the article praising Spain's handling of\\xe2\\x80\\xa6\"\n",
      "b'RT @abbasiam77: We are proud to be among the partners of National Genomics Data Center, China National Center for Bioinformation (CNCB-NGDC\\xe2\\x80\\xa6'\n",
      "b'@TimesofIsrael @DemonHunters2 CDC Admits NO \\xe2\\x80\\x98Gold Standard\\xe2\\x80\\x99 Of COVID19 Virus ISOLATE\\nhttps://t.co/ppGG5JtEJX\\nCDC DO\\xe2\\x80\\xa6 https://t.co/SBdRLWUuRU'\n",
      "b'RT @tmprowell: The first few months of 2021 in the US are going to be much harder than the entire year of 2020. Every doctor knows this. Yo\\xe2\\x80\\xa6'\n",
      "b'#COVID19 is the #1 cause of job-related death in the US, per @TheBeatWithAri. \\n#COVID IS A COP KILLER.\\nTo the flag-\\xe2\\x80\\xa6 https://t.co/6yr322WE5D'\n",
      "b'RT @MarhabaQatar: #COVID19Update (29 Dec): 206 new confirmed cases (152 community cases, 54 returnees from abroad), one new death, and 132\\xe2\\x80\\xa6'\n",
      "b'Captive\\xe2\\x80\\x99s Log: #ShelterInPlace date 11000.288\\n\\nTook Julie\\xe2\\x80\\x99s car in 4 service. Stayed outside away from people b/cuz\\xe2\\x80\\xa6 https://t.co/hyCiDrWJb7'\n",
      "b'#FDA #RECALL: Shane Erickson, Inc. DBA Innovative Marketing Consultants Issues Voluntary Nationwide Recall of Wash-\\xe2\\x80\\xa6 https://t.co/SolGUOfq7X'\n",
      "b'RT @Fabriziobustama: What is going on here?\\n#lockdown #Covid #Tech #IoT #5G  #innovation #SelfDriving #4IR \\nCc: @fogle_shane @archonsec @Pa\\xe2\\x80\\xa6'\n",
      "b\"If you're being good and avoiding groups, how are you #socializing? I made my #coloring #parties virtual on\\xe2\\x80\\xa6 https://t.co/GZROFLknj0\"\n",
      "b'#onlinejobs #workfromhome #jobs #onlinejobsworkfromhome #onlinejob #virtualassistant #workfromhomejobs Trial https://t.co/DmsQVoltbt'\n",
      "b\"RT @SotoNets: Working from home has shown us tech's biggest failures. Here's what needs to change | ZDNet https://t.co/EZ0FO5JUkL \\n#digital\\xe2\\x80\\xa6\"\n",
      "b'Our FDA, CE &amp; ISO-9001 certified PPE are the perfect solution for many industries including hospitality, health car\\xe2\\x80\\xa6 https://t.co/NkEMzgWZ24'\n",
      "b'Mask Makers LLc\\n FDA approved PPE for businesses and everyday use. We offer fast and free shipping, bulk ordering,\\xe2\\x80\\xa6 https://t.co/gICrq9Oc4C'\n",
      "b'RT @nanelvisfan: @ASlavitt And now it will spread like wildfire because we have too many #COVIDIOTS in America. Smfh'\n",
      "b\"RT @JuneSim63: @lucyallan Michael Rosen's answer to eugenicists like you \\xf0\\x9f\\x91\\x87\\n#HerdImmunity\\n#eugenics https://t.co/itodtY194R\"\n",
      "b'NEW box to  check on #Death Certificates PIC\\n#pneumonia #Influenza #Covid \\n\\nBut all deaths will be counted as COVID\\xe2\\x80\\xa6 https://t.co/rdoxYmAomo'\n",
      "b'RT @andersleijersta: Should we ask #China to pay our \\xc2\\xa32 Trillion cost for the #ChineseVirus?'\n",
      "b'@globaltimesnews More delusional Chinese Communist thinking.  The world knows that China lied about the Wuhan Virus\\xe2\\x80\\xa6 https://t.co/JnFQWiDomg'\n",
      "b'#kungflu is racist \\xf0\\x9f\\xa4\\xa3 https://t.co/y8Kl7hCfqy'\n",
      "b'RT @drpete00: Still concerned about #COVID19nsw \\n\\nAt least 3 cases (to be announced tomorrow) outside Northern Beaches, new infections (not\\xe2\\x80\\xa6'\n",
      "b\"RT @nstamouli: #Greece's government is facing a backlash from doctors and opposition parties after dozens of senior government officials re\\xe2\\x80\\xa6\"\n",
      "b'RT @initiative4im: We recently collaborated with @BBSIOnline to put out a guide that answers the top ten questions imams and scholars are a\\xe2\\x80\\xa6'\n",
      "b\"#CoronaVaccine I'll gladly take it, I know my mom is going to be in the first groups cause she works in an elderly\\xe2\\x80\\xa6 https://t.co/wm58vHi2Lx\"\n",
      "b\"RT @GetMyGist: @NCIceCream1 @dunnace @Shynash21 @leedsandyb76 @alistaircoleman Isn't this heartbreaking? And there are others. Perhaps that\\xe2\\x80\\xa6\"\n",
      "b'scott henderson rethinks the face shield @Zverse3D   https://t.co/ccN930DAo5\\n#COVID19 @SHenderson_ID #faceshields\\nT\\xe2\\x80\\xa6 https://t.co/TFl8SnYt9m'\n",
      "b'RT @stephensgaskets: #Hairdressers, #BeautySalons &amp; #clinics looking 4 protective #FaceVisors can order now online from #StephensGaskets.\\xe2\\x80\\xa6'\n",
      "b'Through an impossible year we made great strides towards ZERO! We increased hospital commitments, APSS implementati\\xe2\\x80\\xa6 https://t.co/XqWTnIwBFL'\n",
      "b'RT @DrTedros: Dear @BTS_twt Tae, Happy 25th Birthday!\\nThank you for opening up about your experience with burnout &amp; depression via \\xe2\\x80\\x98Blue &amp;\\xe2\\x80\\xa6'\n",
      "b'RT @deasy_diane: At 61 not only have i been denied 6 years state pension but i have to go to work in preschool with a new variant of #COVID\\xe2\\x80\\xa6'\n",
      "b'United States Corona virus\\nCases : 19,949,610\\nDeaths : 346,260 \\nRecovered : 11,814,436 Projections \\nClosed Cases\\n12\\xe2\\x80\\xa6 https://t.co/BB75Zv8acJ'\n",
      "b'My 76 y.o. physician father-in-law got the call &amp; got his 1st jab today! I actually cried tears of relief when I go\\xe2\\x80\\xa6 https://t.co/t5r8uwWuLy'\n",
      "b'RT @UNICEFIndia: \"I miss them. But this is my duty.\"\\n\\nThis is the story of Noman Saghir, a doting father, a lab technician and one of our #\\xe2\\x80\\xa6'\n",
      "b'\\xf0\\x9f\\x93\\xb7 Habari Gani? UJAMAA! What\\xe2\\x80\\x99s the news? Cooperative Economics! Happy Kwanzaa from our home to yours. Harambee!\\xe2\\x80\\xa6 https://t.co/OHZwTuPvX7'\n",
      "b'RT @magicalmaths: The most fun physical activity for your #homeschool #homeschooling https://t.co/iHWzPRobj9'\n",
      "b'@hometaskcanucks @AlexHorne This was so much fun! Money went a great cause. The kids finally roped In g\\xe2\\x80\\x99parents and\\xe2\\x80\\xa6 https://t.co/7DHleWy2ib'\n",
      "b'The virus with higher transmission rates in now verified in the US. \\nPlease do all you can - wear a mask, and stay\\xe2\\x80\\xa6 https://t.co/NgaOtmxZBZ'\n",
      "b'RT @drkerrynphelps: @Adam_Creighton This is a big assumption @Adam_Creighton \\nFrom the POV of a GP, there have been very few respiratory il\\xe2\\x80\\xa6'\n",
      "b'RT @FreeDAnimation: \"They\\'re back in Hollywood making movies right now because of us. Because they believe in us &amp; what we\\'re doing!\" #TomC\\xe2\\x80\\xa6'\n",
      "b'Well, we are now in the no ICU beds zone! All 20 beds full, no more ventilators! ER with 32 beds is housing 77 pati\\xe2\\x80\\xa6 https://t.co/q6YEsx1TFF'\n",
      "b\"@donwinslow @MayorOfLA My SIL is a physician treating Covid patients in an LA County hospital. It's really bad. The\\xe2\\x80\\xa6 https://t.co/t6cTRgf908\"\n",
      "b'RT @RetroSolesUK: Dont worry #BigSam you have no chance your team didnt get near #LUFC all night #selfisolating'\n",
      "2020-12-30 - 2020-12-31\n",
      "b'@StewartLopez14 @IngrahamAngle You\\xe2\\x80\\x99ve been seriously played. It\\xe2\\x80\\x99s all a lie... #corona #COVID19 #coronavirus\\xe2\\x80\\xa6 https://t.co/yGEgbh7PwM'\n",
      "b'RT @DrDenaGrayson: We experts are so concerned about this new #coronavirus variant, because its &gt;50% increase in transmissibility is even W\\xe2\\x80\\xa6'\n",
      "b'RT @kylenabecker: SENATE.\\xf0\\x9f\\x8f\\xa6\\n\\n\"The Senate needs to vote on $2000 #covid relief for working people BEFORE the new year - I will continue to ob\\xe2\\x80\\xa6'\n",
      "b'RT @HuffmanForNC: My Father-in-law W.C. Flake Jr. passed this morning at 5:34 a.m. due to #Covid19. We all said goodbye over the phone befo\\xe2\\x80\\xa6'\n",
      "b'RT @MNateShyamalan: the jonas brothers went to the year 3000. they could have warned us about covid-19 but chose not to'\n",
      "b'RT @DrEricDing: BREAKING\\xe2\\x80\\x94new details of California case of the new UK-originated #SARSCOV2 variant\\xe2\\x80\\x94 identified in a 30-year-old San Diego C\\xe2\\x80\\xa6'\n"
     ]
    },
    {
     "name": "stdout",
     "output_type": "stream",
     "text": [
      "b'Watching Vic govt response to new #Covid_19 outbreak in Victoria. Their serious &amp; immediate restrictions  such an c\\xe2\\x80\\xa6 https://t.co/s7xahmW2H4'\n",
      "b'Covid19  Japan 3852 people\\xe3\\x80\\x80\\nDecember 30\\nCoordinated Universal Time 14:15/UTC\\nJapan Standard Time  23:15/JST\\xe2\\x80\\xa6 https://t.co/2dYUzAnpNs'\n",
      "b'Tada! Aandddd here we go again..with CCP China on trying to cover up the COVID19 research investigations. #Beijing\\xe2\\x80\\xa6 https://t.co/JXtN79p3TK'\n",
      "b'RT @CDCgov: Health officials in UK &amp; South Africa report 2 new variants of the virus that causes #COVID19. Both variants appear to infect p\\xe2\\x80\\xa6'\n",
      "b'PANDEMIC 2020: Miss BumBum to the rescue!     https://t.co/JghXigNPG1 #pandemic #pandemic2020 \\nMiss BumBum 2018 end\\xe2\\x80\\xa6 https://t.co/ceBvgMwHM3'\n",
      "b'RT @DawnRoseTurner: #pandemic #StayHomeSaveLives:\\nAir #travellers entering #Canada must have a negative #COVID19 test before arrival, Ottaw\\xe2\\x80\\xa6'\n",
      "b'RT @BT21_: We can fight the spread of COVID-19 together by sticking to the basics. \\xf0\\x9f\\x92\\x93\\n\\nFollow the steps to protect yourself with BT21! \\xf0\\x9f\\x93\\x9d\\n\\n#C\\xe2\\x80\\xa6'\n",
      "b\"RT @imperfect_foods: Stay home and cook something delicious. It's one of the most impactful things you can do right now.\\n#stayhome #flatten\\xe2\\x80\\xa6\"\n",
      "b'Our new turn bar and delam/relam just arrived today! Happy new year everyone!  #sandiegolabel #sandiego #label\\xe2\\x80\\xa6 https://t.co/OVk5HNUMNr'\n",
      "b'RT @ElizaaCom: Last day in Sofia Ring Mall before the closure for three weeks \\n#lockdown https://t.co/iWygryVrbF'\n",
      "b'RT @SixPersistsBlue: \"California nurse demonstrates why you must complete the two dose regimen and maintain social distancing &amp; masking.\"\\xe2\\x80\\xa6'\n",
      "b\"Are you finding it tough to #WorkFromHome? You're not alone... https://t.co/kVpXIkZVEQ\"\n",
      "b'My nearly 4-year-old just put on my slippers and proclaimed: \\xe2\\x80\\x9cI\\xe2\\x80\\x99m daddy, and I\\xe2\\x80\\x99m ready for work now!\\xe2\\x80\\x9d\\n\\n2020, man ... \\n\\n#workingfromhome #WFH'\n",
      "b'RT @Mouseyali: During these challenging times things can become overwhelming, it is possible you may wonder how you are going to look after\\xe2\\x80\\xa6'\n",
      "b'@mkadomeit @EpochTimes Sanders finally wearing #N95 mask... Guess the charades with the cloth masks wore thin... no pun intended!'\n",
      "b\"@Incorparated2 @ksorbs He knows, he just doesn't care. He only says this shit because the #COVIDIOTS pay attention\\xe2\\x80\\xa6 https://t.co/8PNzjV6Y7d\"\n",
      "b'RT @IngrahamAngle: .@marcorubio accuses #Fauci of lying to Americans on #masks and distorting the level of vaccination needed for #HerdImmu\\xe2\\x80\\xa6'\n",
      "b'RT @DrGloriaBrame: General health alert - #GUMParoex mouthwash was recalled for #oralhealth contamination that poses a high risk to #immuno\\xe2\\x80\\xa6'\n",
      "b'RT @KidsCharity3: Back in the day the American government pretended to go\\ngive black people a \"vaccine\" but actually gave them Syphilis...\\xe2\\x80\\xa6'\n"
     ]
    },
    {
     "name": "stderr",
     "output_type": "stream",
     "text": [
      "Rate limit reached. Sleeping for: 173\n"
     ]
    },
    {
     "name": "stdout",
     "output_type": "stream",
     "text": [
      "b'RT @FixPuertoRicoUS: @AOC Would it be a terribly bad idea to have a clean bill without asking \\xf0\\x9f\\x87\\xba\\xf0\\x9f\\x87\\xb8 income taxpayers to fund foreign aid in th\\xe2\\x80\\xa6'\n",
      "b'@taosaur @NPR Here\\xe2\\x80\\x99s another \\xe2\\x80\\x9ccOnsPiRaCy ThEoRy\\xf0\\x9f\\xa4\\xaa\\xe2\\x80\\x9d. \\xf0\\x9f\\x99\\x84\\xf0\\x9f\\x99\\x84\\xf0\\x9f\\x99\\x84\\xf0\\x9f\\x99\\x84\\xf0\\x9f\\x99\\x84 #ChynaVirus #KungFlu https://t.co/TFbPgbvx2x'\n",
      "b'RT @DrAnitaGoh: From 5pm  (31st Dec):\\n\\xf0\\x9f\\x8c\\x9f15 guests only for tonights nye festivities (down from 30) \\n\\xf0\\x9f\\x98\\xb7 Masks mandatory indoors #WearAMask \\n\\xf0\\x9f\\xa5\\x98\\xe2\\x80\\xa6'\n",
      "b\"RT @Lupusreference: \\xf0\\x9f\\x86\\x95 Check the RESULTS of the randomized #trial of BioNTech-Pfizer's mRNA #COVID19 #vaccine published in the NEJM by Polac\\xe2\\x80\\xa6\"\n",
      "b'RT @BlackNewsC: Some in the Black community are skeptical about vaccines even as the virus has had a devastating impact on our community so\\xe2\\x80\\xa6'\n",
      "b'RT @Lars9596: #BillGates \"donates\" over US$8 billion in various organisations, from Orgs that have to approve the #CoronaVaccine, to medica\\xe2\\x80\\xa6'\n",
      "b'@walkingyorkie @Siobhan_Baillie @MattHancock @gloshospitals Whose lives have been \\xe2\\x80\\x9csaved\\xe2\\x80\\x9d by the #coronavaccines? W\\xe2\\x80\\xa6 https://t.co/vWzkduuHQp'\n",
      "b'Soooooo.....This is how I\\xe2\\x80\\x99m travelling now.   #safeflights #catchingflights #faceshield #bettersafethansorry\\xe2\\x80\\xa6 https://t.co/jf47NELOwV'\n",
      "b'My #Normal Is Not Your #Psychotic #NewNormal! https://t.co/S47kk40MoR My Normal is a world free of #masks, free of\\xe2\\x80\\xa6 https://t.co/wv6KOdpW8j'\n",
      "b'A spokesman for the Health Department said licensed medical workers are a priority, but coordinating those outside\\xe2\\x80\\xa6 https://t.co/xTC5EDueR0'\n",
      "b'RT @DrTedros: Dear @BTS_twt Tae, Happy 25th Birthday!\\nThank you for opening up about your experience with burnout &amp; depression via \\xe2\\x80\\x98Blue &amp;\\xe2\\x80\\xa6'\n",
      "b'RT @JudgeClayJ: According to information reported to @NCTTRAC, there are 16 adult ICU beds available in Dallas County as of 12/29/2020.\\n \\nP\\xe2\\x80\\xa6'\n",
      "b'United States Corona virus\\nCases : 20,174,275\\nDeaths : 349,982 \\nRecovered : 11,953,257 Projections \\nClosed Cases\\n12\\xe2\\x80\\xa6 https://t.co/QDiJ4SOKrU'\n",
      "b'RT @GPmedia_24: VACCINE ROLLOUT: Paramedic  unions say they are pleased the Ontario govt listened and is NOW recognizing paramedics as the\\xe2\\x80\\xa6'\n",
      "b'RT @UNICEFIndia: Sharika is one of many #Coronawarriors working selflessly and tirelessly to keep her community safe.\\n\\n#TogetherAgainstCOVI\\xe2\\x80\\xa6'\n",
      "b'RT @BraveWriter: The system doesn\\xe2\\x80\\x99t create your #homeschool. YOU do.\\n\\nFundamentally, your homeschool thrives when you are fear-free, and yo\\xe2\\x80\\xa6'\n",
      "b'In light of today\\xe2\\x80\\x99s news of further school closures we are offering a 10% discount for all families that need our s\\xe2\\x80\\xa6 https://t.co/6G3sFjBIAy'\n",
      "b'I\\xe2\\x80\\x99d like to thank @gdavies and @AlexHorne for #hometasking in 2020. #Taskmaster via zoom has been one of the most h\\xe2\\x80\\xa6 https://t.co/4Jh5sJT8og'\n",
      "b\"@glennkirschner2 A Nat'l #pandemic=#HippocraticOath, a #legal #onus to #treat all #equally\\n3,750 died 1d\\xe2\\x80\\xa6 https://t.co/tezbLsLd29\"\n",
      "b\"RT @DuckDuckGo: Did you know DuckDuckGo's team is fully remote across 17 countries? Our list of #WFH privacy-focused tools:\\n\\nEmail \\xe2\\x86\\x92 @Fastm\\xe2\\x80\\xa6\"\n",
      "b'Vaccine or not - still #WearAMask ; it\\xe2\\x80\\x99s the best protection we have &amp; know about. Wear one &amp; #WashUrHands - 4 the\\xe2\\x80\\xa6 https://t.co/LyN6zTdkgs'\n",
      "b'Stay home \\xf0\\x9f\\x8f\\xa1 and wash your hand, one death,  is one too many.#Congreesselectdeath #COVID19 #WashYourHands #WearAMask\\xe2\\x80\\xa6 https://t.co/IXCaw4SKaT'\n",
      "b'RT @CMOIreland: If you were exposed to #COVID19 on Christmas Day, you would be at your most infectious to people you encounter tomorrow on\\xe2\\x80\\xa6'\n",
      "b'RT @deedeelea: When my dad was dying he was in @NHSHomerton ICU and the level of care he received there was absolutely incredible. So grate\\xe2\\x80\\xa6'\n",
      "b'Urgghh my husbands got #COVID19 \\xf0\\x9f\\x98\\xa9 we just got the email confirming his test result. Thankfully we were already\\xe2\\x80\\xa6 https://t.co/0zJfeaQ7ii'\n",
      "2020-12-31 - 2021-01-01\n",
      "b'Today 48472 new keys were distributed to the German #Corona app. Total checked keys today is 534940. # of keys is N\\xe2\\x80\\xa6 https://t.co/YOkGueLn1R'\n",
      "b'RT @picardonhealth: #COVID19 in \\xf0\\x9f\\x87\\xa8\\xf0\\x9f\\x87\\xa6 December 31, 2020. Thread:\\n\\nOntario ends the year on grim note, reporting record-high 3,328 new #coronav\\xe2\\x80\\xa6'\n",
      "b'RT @ShehuSani: There were 4 heroes of d year 2020;The military,policemen &amp; vigilantes who laid their lives in the battle against Banditry &amp;\\xe2\\x80\\xa6'\n",
      "b'RT @edmundmonk: This is Sarah Gilbert who oversaw the team who did the actual work in creating the Oxford vaccine. This is the woman who de\\xe2\\x80\\xa6'\n",
      "b'RT @VicGovDHHS: Yesterday there were 5 new local cases reported. 0 cases acquired interstate, 3 international and in hotel quarantine. 13,1\\xe2\\x80\\xa6'\n",
      "b\"RT @ScienceMagazine: From the life cycle of #SARSCoV2, to the potential effects of #COVID19 on the human body, here's a look at the virus a\\xe2\\x80\\xa6\"\n",
      "b'RT @martinezmau: And this is how the Mexican secretary of health, @hlgatell, without respecting the #covid_19 measures he implemented (and\\xe2\\x80\\xa6'\n",
      "b'\\xf0\\x9f\\x92\\xa5 Wishing you a year fully loaded with happiness\\n\\xf0\\x9f\\x92\\xa5 May this year bring New Happiness, New Goals, New Achievements,\\xe2\\x80\\xa6 https://t.co/9EGagGVYgm'\n",
      "b'RT @V2019N: This account followed blogs about the \"Wuhan pneumonia\" by @FluTrackers @Crof @MackayIM @Fla_Medic and @ProMED_mail late Dec/ea\\xe2\\x80\\xa6'\n",
      "b'@jazzutefan0724 @RobertGehrke CDC weekly deaths data here: https://t.co/pvjseFnW0K\\n\\nShows 3.02 million deaths as of\\xe2\\x80\\xa6 https://t.co/5M0UMa2oI5'\n",
      "b\"RT @DelhiTimesTweet: #TopTen2020: @AlyGoni talking about @jasminbhasin, a rare @sidharth_shukla interview, @SonuSood's work during the #pan\\xe2\\x80\\xa6\"\n",
      "b'RT @LibrarianshipCA: As 2020 comes to an end, a word of thanks to library workers across the country who have helped Canadians access the c\\xe2\\x80\\xa6'\n",
      "b'2020, What a Year! Although, not how I imagined it, grateful for friends and family! January - June 2020. Cheers to\\xe2\\x80\\xa6 https://t.co/HYGl5RdoOt'\n",
      "b'@mini_bubbly Happy New Year Cheryl! Congrats Maritimers: #FlatteningTheCurve\\xf0\\x9f\\x98\\x98 https://t.co/RyGLXOQlFh'\n",
      "b'RT @our_carmel: Happy New Years Eve to all staff, students and families. Best wishes for a healthier, kind and loving world. #GoodBye2020 #\\xe2\\x80\\xa6'\n",
      "b'RT @lbcbioscience: 100 MG CBD + CBG Hand Sanitizer with Vitamin E \\xf0\\x9f\\x8c\\xbf Visit https://t.co/p6cozUpjLY to purchase!  #virus #HandSanitizer #cbdh\\xe2\\x80\\xa6'\n",
      "b'Happy New Year to everyone! Hope we all have a better 2021! \\xf0\\x9f\\x92\\xab\\n\\n#happynewyear #hny #Year2021 #2021goals\\xe2\\x80\\xa6 https://t.co/Q7j4ddGmRx'\n",
      "b'RT @pp3dp_se: @blackroomsec\\n@cybergibbons\\n@th3j35t3r\\n@fs0c131y\\n\\nWe did it, onwards n upwards\\xf0\\x9f\\xa5\\x83\\xf0\\x9f\\x8e\\x89\\xf0\\x9f\\xa4\\x93\\n\\n#infosec\\n#Hackers\\n#SocialDistancing https:\\xe2\\x80\\xa6'\n",
      "b'Happy New Year to everyone! Hope we all have a better 2021! \\xf0\\x9f\\x92\\xab\\n\\n#happynewyear #hny #Year2021 #2021goals\\xe2\\x80\\xa6 https://t.co/Q7j4ddGmRx'\n",
      "b'Interested? Contact us today! https://t.co/rGf1KdhYwK\\n#dardenqualityofworks \\n#AriseVirtualSolutions\\xe2\\x80\\xa6 https://t.co/TmV5WPJb72'\n",
      "b'SALES EQUALS MAKING MONEY: Learn Sales In 1 Day FREE. Learn more click  here:  https://t.co/ihx1m0zPuk+\\n\\n #sales\\xe2\\x80\\xa6 https://t.co/nOHDXEuHuj'\n",
      "b'Last Setup of the Year \\xe2\\x9c\\x8c\\xf0\\x9f\\x8f\\xbb\\xf0\\x9f\\x98\\x81 \\n\\nWallpaper: @Maria2Ps \\nTheme: Ghosted by @sethsdown \\nStatusbar: AiirLite by @aiirikx\\nFa\\xe2\\x80\\xa6 https://t.co/rGVfmSmsgG'\n",
      "b\"@JamesWebsterITV They're Selfish #COVIDIOTS unfortunately James \\xf0\\x9f\\x99\\x84  Jsy Gov really should've used @GaryBurgessCI wor\\xe2\\x80\\xa6 https://t.co/N526jiNLd9\"\n",
      "b'RT @SiccoVanHoegee: The Dutch minister of education from @christenunie is disappointed that schools needs to stay closed. He is a fanatic h\\xe2\\x80\\xa6'\n",
      "b'RT @Trumpfortexas: @centrright4trmp This is a #medicalCoup. A device to divide us. #maskdontwork and could infect you by breathing your own\\xe2\\x80\\xa6'\n"
     ]
    },
    {
     "name": "stdout",
     "output_type": "stream",
     "text": [
      "b'RT @h_appleby: \"In the year of the rat, the Chinese Communist regime\\xe2\\x80\\x99s depths of depravity were on full display from destroying evidence an\\xe2\\x80\\xa6'\n",
      "b'RT @KanchanGupta: Wishing everybody happiness, health and peace in 2021. May the New Year end the misery and heal the wounds of 2020. May t\\xe2\\x80\\xa6'\n",
      "b'Let\\xe2\\x80\\x99s call it the year of the China virus #Wuhanflu #Kungflu https://t.co/cpunccEdhe'\n",
      "b'RT @Patty_90210girl: My Goodbye Message to 2020 \\xf0\\x9f\\xa4\\xad my Beautiful Babies \\xf0\\x9f\\x98\\x98  @Jason_Priestley @jenniegarth @IanZiering @withBAGpod @DohertyShan\\xe2\\x80\\xa6'\n",
      "b'.@crechecare has released their #Covid19 Pandemic Mobile Command Center. The all-in-one system eliminates storage &amp;\\xe2\\x80\\xa6 https://t.co/QLErQiQBPE'\n",
      "b\"RT @ScienceNotDogma: In case you wonder why I push back so hard daily against #disinformation and #misinformation, read this.\\n\\nIt's the DIR\\xe2\\x80\\xa6\"\n",
      "b'RT @OrthopodReg: Report and Data to JCVI on estimated efficacy of a single dose of the #COVID19 #Vaccine\\n\\n#NHS #medtwitter #coronavirus #va\\xe2\\x80\\xa6'\n",
      "b\"RT @AsafRonel: Jewish settlers in the West Bank are starting to get #CoronaVaccines. Their Palestinian neighbors didn't get any yet\"\n",
      "b'LAST CHANCE! Get ready for 2021 with Eagle Eyes safety gear and save 25% through MIDNIGHT TONIGHT. Our safety goggl\\xe2\\x80\\xa6 https://t.co/MKQGtBzIPT'\n",
      "b'RT @stephensgaskets: We #manufacture #Factory #Warehousing #FaceShields &amp; #FaceVisors, with a full face &amp; integrated forehead band.\\n\\nDiscov\\xe2\\x80\\xa6'\n",
      "b'RT @dw_business: \\xf0\\x9f\\x93\\xbc Many flee to Europe every year, some of them to escape the difficult economic situations.\\nSenegalese Mbaye Babacar Diouf\\xe2\\x80\\xa6'\n",
      "b'Health Workers US: We Have Time to Dance (and Choreograph) https://t.co/Guf4iXs9DH via @YouTube #dancingnurses\\xe2\\x80\\xa6 https://t.co/HNtyoSTkox'\n",
      "b'RT @RosieBarton: Ending the year with many thanks to the front line workers who have kept us safe, healthy, fed, and well during a terrible\\xe2\\x80\\xa6'\n",
      "b'United States Corona virus\\nCases : 20,403,834\\nDeaths : 353,459 \\nRecovered : 12,082,673 Projections \\nClosed Cases\\n12\\xe2\\x80\\xa6 https://t.co/4NQKNFJv2h'\n",
      "b\"RT @RespectIsVital: Please consider sharing this and using #FrontLineHeroes.\\n\\nI'm a bit lost after making it, reading their stories really\\xe2\\x80\\xa6\"\n",
      "b'RT @mannkibaat: Remembering #CoronaWarriors on the last day of the Year...\\n\\n#NewYear2021 #IndiaFightsCorona https://t.co/ulQDmcCAZO'\n",
      "b'RT @_CrossReads: Shop Christian NonFiction eBook Store Including Illustrated What Is Science? (Serial Illustrated Antidisestablishmentarian\\xe2\\x80\\xa6'\n",
      "b'Subscribe to our educational YouTube channel for more videos!\\nhttps://t.co/nNgasWX8ov\\n\\nInstagram : hawaii_brick_s\\xe2\\x80\\xa6 https://t.co/Gbb96MXn80'\n",
      "b'2020 has been challenging year, but lockdown gave me an opportunity to have fun with some big video projects such a\\xe2\\x80\\xa6 https://t.co/I4i1w2BUCE'\n",
      "b'Need a t shirt, check this !\\nShop now !\\nhttps://t.co/cPL0K6SMDc\\n\\n#design #art #DIgitalart #nerd #geek #FUnny\\xe2\\x80\\xa6 https://t.co/QSyjyKj6lt'\n",
      "b\"RT @DuckDuckGo: Did you know DuckDuckGo's team is fully remote across 17 countries? Our list of #WFH privacy-focused tools:\\n\\nEmail \\xe2\\x86\\x92 @Fastm\\xe2\\x80\\xa6\"\n",
      "b'RT @meg_Y12: Not messing around with 2021! I hate blacke eyed peas, but after 2020 I will eat them tomorrow. I will even try to swallow the\\xe2\\x80\\xa6'\n",
      "b'RT @giselefetterman: Spending our NYE at home because we care about you, your life and those you love.  We\\xe2\\x80\\x99d love see your home celebration\\xe2\\x80\\xa6'\n",
      "b'Tacos, vodka &amp; tv! The living room party is about to start \\xf0\\x9f\\x8e\\x89\\xf0\\x9f\\x8e\\x89\\xf0\\x9f\\xa5\\xb3\\xf0\\x9f\\xa5\\xb3\\xf0\\x9f\\xa5\\xb3 #NewYearsEve #NYE2020 #StayHome #clublivingroom'\n",
      "b'RT @MutualAidMedway: Mutual Aid Road Reps Community InitiativeFrom all of us here MA|RR wishing you and your family a healthy and happy 202\\xe2\\x80\\xa6'\n",
      "2021-01-01 - 2021-01-02\n",
      "b'Everything You Need to Know About Temp Jobs https://t.co/JyVbN2xy4Y #Friday #FridayFeeling #FridayVibes #Career\\xe2\\x80\\xa6 https://t.co/utoaDUKwQb'\n",
      "b'RT @YoniFreedhoff: In just 19 days, 23,502 #Ontarians have been vaccinated against #coronavirus, over 0.16% of the population. \\xf0\\x9f\\x92\\x89'\n",
      "b'Together, we have created the most powerful supercomputer on the planet, and are using it to help understand SARS-C\\xe2\\x80\\xa6 https://t.co/3RzTzVaMAZ'\n",
      "b\"RT @tmprowell: In Dec '01, one guy tried--&amp; failed-- to set off explosives he had hidden in his shoes. Almost 2 decades later, we're all st\\xe2\\x80\\xa6\"\n",
      "b'RT @latimes: Roughly 20% to 40% of the L.A. County\\xe2\\x80\\x99s front-line workers who were offered the vaccine declined to get the shot.\\n\\nSo many in\\xe2\\x80\\xa6'\n",
      "b'RT @CillianDeGascun: As a random, albeit small, selection of cases primarily from the community, these data would suggest that the #SARSCoV\\xe2\\x80\\xa6'\n",
      "b\"RT @DrJasonJohnson: I'm not surprised that people are cutting in line for round 1 of the #Covid_19 vaccine while front line workers are sti\\xe2\\x80\\xa6\"\n",
      "b'Manilenos can sign up now! #NewsMediaNest #covid19 #coronavirus #ncov #pandemic #virus #manila #vaccine\\xe2\\x80\\xa6 https://t.co/A2SXKeHlyV'\n",
      "b\"@picardonhealth @HelenBranswell I'm curious about how many Biology undergrad courses mentioned #nCoV2019 early on.\\xe2\\x80\\xa6 https://t.co/0HLv3gG3hH\"\n",
      "b'RT @jimhoxworth_: Kaynaklar\\n[1] : https://t.co/3hdoHTJRXb\\n[2] : https://t.co/sEWdjeUkBd\\n[3] : https://t.co/MAi2khJdc5\\n[4] : Corporate Greed\\xe2\\x80\\xa6'\n",
      "b'RT @LdnGirlsPodcast: Starting off the New Year right with our 12th #ldngirlspodcast episode: https://t.co/hpvdzltNc1 \\n\\n#podcasts\\n#podcastsi\\xe2\\x80\\xa6'\n",
      "b'RT @epaphotos: Medical staff of the COVID-19 ward celebrate the new year in Umberto I hospital, in #Rome, #Italy. \\xf0\\x9f\\x93\\xb7 epa-efe / ansa / Massim\\xe2\\x80\\xa6'\n",
      "b'\"Leaders are not, as we are often led to think, people who go along with huge crowds following them. Leaders are pe\\xe2\\x80\\xa6 https://t.co/V4gfgj1Jcq'\n",
      "b'Our communities lose so much depth, talent, and potential in each casualty of #COVID-19; but our will to succeed in\\xe2\\x80\\xa6 https://t.co/S4CjijpYVr'\n",
      "b'Happy New Years everyone. Please stay safe and continue to social distance. With the holiday seasons, expect high v\\xe2\\x80\\xa6 https://t.co/bXXs33atjH'\n",
      "b'RT @KRGAmerica: Nice start to the New Year: Looks like #distilleries won\\xe2\\x80\\x99t face FDA fees for stepping up and producing #handsanitizer'\n",
      "b'RT @DreamTreeWonder: \\xf0\\x9f\\x92\\x97You Are Amazing:lined paper journal 4thoughts https://t.co/neHqcfQjEF via @amazon #HappyNewYear2021 #journal #Writing\\xe2\\x80\\xa6'\n",
      "b'RT @NiciGregory: Missing you already...\\n#SocialDistancing #illustrationoftheday https://t.co/2013Y7X0dv'\n",
      "b'Welcome Jessica Jelles to the Freedom Finders Family! Thank you so much for joining! I am very excited for both of\\xe2\\x80\\xa6 https://t.co/6WtHvEFBAL'\n",
      "b'About the year just ended, the canines and felines have spoken.....er.....barked and meowed\\n#HappyNewYear2021\\xe2\\x80\\xa6 https://t.co/3hWUOLgK8U'\n",
      "b'Get all your PPE including face shields at VTS. Shop now! #VTS #VectorTechnologySystems #PPE #faceshields\\xe2\\x80\\xa6 https://t.co/SqnrDwVPUT'\n",
      "b'\\xf0\\x9f\\x98\\xb7\\xc2\\xab\\xc2\\xab\\xc2\\xab-\\xc2\\xbb\\xc2\\xbb\\xc2\\xbb\\xf0\\x9f\\x98\\xb7 Our scientists are developing an #N95 quality-assessment test for the medical industry and hospitals \\xe2\\x80\\x93 be\\xe2\\x80\\xa6 https://t.co/v8uT5wLzVw'\n",
      "b'Society pays the price over and over again for the most stupid of their citizens. #covidiots #youngmen\\n\\nBBC News -\\xe2\\x80\\xa6 https://t.co/fMg3sydX7T'\n",
      "b'RT @CheriDiNovo: REMINDER JAN 1: In #Ontario we have to be vaccinating ONE MILLION new people a month to reach #HerdImmunity in 2021 @celli\\xe2\\x80\\xa6'\n",
      "b'Faster, accurate lower respiratory tract infection #diagnosis using Multiplex #PCR Panel ... \\n\\n| #bacteria |\\xe2\\x80\\xa6 https://t.co/NkNwZDrqTo'\n",
      "b'Greetings from the #ChineseVirus Capital Wuhan. https://t.co/fPSlUukvcC'\n",
      "b'RT @rstlam: #China must pay for the loss and damage\\n\\n#ChinaVirus #WuhanVirus @POTUS @SecPompeo @SolomonYue https://t.co/iH1eiROzZH'\n",
      "b'Why do hypocritical officials violate their own #COVID rules?\\nThe open secret\\nhttps://t.co/vb672mWGzq\\n\\n#covidHOAX\\xe2\\x80\\xa6 https://t.co/EYiwBwVczC'\n"
     ]
    },
    {
     "name": "stdout",
     "output_type": "stream",
     "text": [
      "b'RT @Tom_EllisFans: My message to #2020\\xf0\\x9f\\x96\\x95\\xf0\\x9f\\x8f\\xbbthanks to this picture of #TomEllis \\xf0\\x9f\\x98\\x89\\n\\nLovely followers I would like to thank you for the support &amp;\\xe2\\x80\\xa6'\n",
      "b'@miyashay Quit fighting over this #vaccine. We still have to wait and see what happens to all the wonderful volunteers. \\xf0\\x9f\\x98\\xa3\\xf0\\x9f\\x98\\xac'\n",
      "b'RT @EpochTimes: A #HealthcareWorker who was fired after admitting to intentionally causing the spoilage of some 500 doses of #Vaccines for\\xe2\\x80\\xa6'\n",
      "b'RT @IndiaToday: #Breaking: Flights between India and the UK to resume partially from Jan 8\\n#7At7 #CoronaVaccine | @PreetiChoudhry https://t\\xe2\\x80\\xa6'\n",
      "b'Take heed, governments worldwide \\xe2\\x80\\xbc\\xef\\xb8\\x8f ~ #VaccineApartheid\\n#coronavaccines https://t.co/iiuVwlkBJ1'\n",
      "b\"Well, 2020 is over but the pandemic isn't just yet. If you need to restock up on face shield visors this new year t\\xe2\\x80\\xa6 https://t.co/xPuwIFM1zr\"\n",
      "b'Get all your PPE including face shields at VTS. Shop now! #VTS #VectorTechnologySystems #PPE #faceshields\\xe2\\x80\\xa6 https://t.co/SqnrDwVPUT'\n",
      "b'#2020 will always be remembered as an odd number for humanity. We fought and we stood strong! The year shall be rem\\xe2\\x80\\xa6 https://t.co/4Zqms33tgK'\n",
      "b'A mockery of the #HandsFaceSpace measures to arrest the spread of #Covid19 put in place by @CAgovernor - insults th\\xe2\\x80\\xa6 https://t.co/93c0Nhhd7k'\n",
      "b'RT @n3rdgal: Don\\xe2\\x80\\x99t be a puppet, don\\xe2\\x80\\x99t engage. Better yet, #StayHome\\xc2\\xa0 #stayhomejan6 #StayHomeStaySafe \\n\\n#Jan6TrumpTrap\\n#DontBeAPuppet\\n#TTP\\xe2\\x80\\xa6'\n",
      "b'RT @tan_paulus27: United States Corona virus\\nCases : 20,603,624\\nDeaths : 356,328 \\nRecovered : 12,160,300 Projections \\nClosed Cases\\n12,516,6\\xe2\\x80\\xa6'\n",
      "b'RT @511Tactical: Before we say goodbye to 2020, we want to give a BIG thank you to all #FrontlineHeroes. Your tireless efforts have brought\\xe2\\x80\\xa6'\n",
      "b'RT @cashcoveboy: Are we doing enough for our #CoronaWarriors ? I doubt.. \\nDo they really care about it? May be not..\\n\\nThis was a very small\\xe2\\x80\\xa6'\n",
      "b'\\xe2\\x80\\x9cLearn as much as you can while you are young, since life becomes too busy later.\\xe2\\x80\\x9d ~Dana Stewart Scott #homeschool #quote'\n",
      "b'Share if you find it terrific!\\n\\n#homeschooling #preschool https://t.co/KfpwobB6z2'\n",
      "b'@dr_benoy_n_shah @CalZole #COVID19 #pandemic can be ended in ~10wks by #FreeVitaminD, #mfgs keep shelves full\\n+\\xe2\\x80\\xa6 https://t.co/8K7n7Q4uLl'\n",
      "b'RT @MarshaCollier: Get ready for 2021 and earn $!\\n\\nMy 2020 revised, TENTH edition of \"eBay For Dummies\" is the solution for those who want\\xe2\\x80\\xa6'\n",
      "b'@TheTrueAmerica5 We were derailed from Democracy with the dump truck Trump, but we are back on the train of Democra\\xe2\\x80\\xa6 https://t.co/XUZVIZHtNr'\n",
      "b'RT @CillianDeGascun: As a random, albeit small, selection of cases primarily from the community, these data would suggest that the #SARSCoV\\xe2\\x80\\xa6'\n",
      "b'RT @JoyHenningsenMD: Flying: Sooooo not smart right now. \\n\\nToo many variables that cannot be controlled. \\n\\n\\xf0\\x9f\\x9a\\xab\\xe2\\x9c\\x88\\xef\\xb8\\x8f #StayHome'\n",
      "b'@SohoDairy @BerW1ckStMarket \\xf0\\x9f\\x98\\xad\\xf0\\x9f\\x98\\xad\\xf0\\x9f\\x98\\xad\\xf0\\x9f\\x98\\xad\\xf0\\x9f\\x98\\xad\\xf0\\x9f\\x98\\xad Joy #Robin\\nI want one here now !\\n#SelfIsolating #CovidStress #StressFullStop\\xe2\\x80\\xa6 https://t.co/IWgtP1QWZb'\n",
      "2021-01-02 - 2021-01-03\n",
      "b'RT @ShainaNC: Despite having taken all precautions the invisible terrorist #Covid has struck. I thought good immunity is the way to fight #\\xe2\\x80\\xa6'\n",
      "b'RT @RupertRead: January is going to see tens of thousands of deaths from the new variant, because of its much higher transmissibility. An a\\xe2\\x80\\xa6'\n",
      "b'RT @B52Malmet: This just in: 87 year old Larry King, of talk show note, and multiple marriages, is in the hospital in LA with #covid.'\n",
      "b'RT @DrEricDing: BREAKING\\xe2\\x80\\x94Pennsylvania GOP state Rep. Mike Reese, who had tested positive for #COVID19 in December 2020, has died. He was 42\\xe2\\x80\\xa6'\n",
      "b'RT @MarkLevineNYC: In April, 1947 New York City faced a terrifying smallpox outbreak. 23 days later the City had vaccinated 6 million peopl\\xe2\\x80\\xa6'\n",
      "b'RT @DrEricDing: Pandemic profiteer @thermofisher is trying to monopolize the shortcut fast PCR test for the B117 #SARSCoV2 variant\\xe2\\x80\\x94&amp; arroga\\xe2\\x80\\xa6'\n",
      "b'RT @AWKWORDrap: We can\\xe2\\x80\\x99t pay rent.\\nWe can\\xe2\\x80\\x99t buy food.\\nWe can\\xe2\\x80\\x99t care for our sick and dying.\\nWe can\\xe2\\x80\\x99t educate our children.\\n\\nJoin the #Gener\\xe2\\x80\\xa6'\n",
      "b'Why financial markets boomed during the pandemic #NewsMediaNest #pandemic #boom #covid19 #coronavirus #ncov #virus\\xe2\\x80\\xa6 https://t.co/Sxl7vaFz20'\n",
      "b'RT @ArmyMedEurope: If I get vaccinated, do I still need to wear a mask and practice social distancing? The short answer is yes.\\n\\nLearn more\\xe2\\x80\\xa6'\n",
      "b'The hidden long-term cognitive effects of COVID-19 - https://t.co/myWjOZEoEq via @shareaholic #pandemic #novelcoronavirus #covid19'\n",
      "b'In the news: Coronavirus: 171 new COVID-19 cases; no new deaths reported on Jan. 2 https://t.co/gKe46N7gDK #coronavirus #COVID19 #2019ncov'\n",
      "b'My daughter, wife, &amp; I love playing this card game by @DolphinHatGames! Only issues is we might already need a new\\xe2\\x80\\xa6 https://t.co/jtyZ1xsICH'\n",
      "b'RT @CardiacCN: Yes @britainsocean city, the the yellow Plymouth line graph is not as steep but we are far from being out of the woods. Our\\xe2\\x80\\xa6'\n",
      "b'RT @OsmosisMed: COVID-19 vaccinations are underway, but organizations like the CDC and WHO stress we should continue to wear masks to help\\xe2\\x80\\xa6'\n",
      "b'Get your very own personalized hand sanitizer holder keychain with any design you want and it comes with a 1 oz emp\\xe2\\x80\\xa6 https://t.co/6MICDl1JPI'\n",
      "b'RT @georgiaEtennant: Second series of \\xe2\\x80\\x98Staged\\xe2\\x80\\x99 starts Monday 4th Jan 9:45pm on @bbcone. \\xf0\\x9f\\x8d\\x8d@anna_lundbergs @lucyeatonmess @SimonEvans25 @phin\\xe2\\x80\\xa6'\n",
      "b'Taking a lot of shit from so called friends about the vaccine.  If you aren\\xe2\\x80\\x99t on board it\\xe2\\x80\\x99s a deal breaker for me.\\xe2\\x80\\xa6 https://t.co/jfqtlnBQL5'\n",
      "b'Get your hands on some #newyear deals. #perfume #perfumelover #fragrance #fmworlduk #jpg #scandal #gifts\\xe2\\x80\\xa6 https://t.co/ixyIyP5dY9'\n",
      "b'I have noticed: Employees who were already well practiced in managing their own #time #boundaries and #choosing wha\\xe2\\x80\\xa6 https://t.co/jZBrnbGbIW'\n",
      "b'RT @mojos55: The Prime Murderer is on #Marr tomorrow,\\n\\nTo state what ? Further Lies .... \\nTo explain how his #Eugenic Herd plan is coming a\\xe2\\x80\\xa6'\n",
      "b'#fun N95 Face Mask Long Sleeve T-Shirt (White Text)\\xc2\\xa0https://t.co/xejKJwQG0x\\n\\n#tshirt #longsleeve #facemask #n95 https://t.co/fiKDcHjomW'\n",
      "b\"RT @AlikaRito: I've lost my aunt to COVID. My sister got admitted to ICU due to COVID. I work in an ICU fully stetched due to COVID. I saw\\xe2\\x80\\xa6\"\n",
      "b'RT @Sadie15522679: Covid surge off the top thanks to DeSantis\\xe2\\x80\\x99 belief in #HerdImmunity, which only works when about 70% of the population r\\xe2\\x80\\xa6'\n",
      "b'RT @LEAD_Coalition: #Opioids put #Alzheimers patients at risk of #pneumonia https://t.co/JOmZ30YeUt\\n\\n#pain #neurology #dementia @ctyankee00\\xe2\\x80\\xa6'\n",
      "b'@JesseLaGreca The hell with that. It doesn\\xe2\\x80\\x99t mean that there aren\\xe2\\x80\\x99t tons of people out there that won\\xe2\\x80\\x99t wear the ma\\xe2\\x80\\xa6 https://t.co/cWD8gErWXU'\n",
      "b'RT @bcwestmind: MaoCallumists are rife in Ottawa. Could be a lot of sex tapes made by the #CCP over the friendly years. \\n\\n#cdnpoli #China #\\xe2\\x80\\xa6'\n",
      "b'Really glad #ChinaVirus is finally over. 2020 was a year controlled by Satan himself, 2021 will be far superior.  T\\xe2\\x80\\xa6 https://t.co/KZTT9pQ6Kz'\n",
      "b'RT @freckledpedidoc: Here\\xe2\\x80\\x99s my Sleepy Post-Call #CovidVaccine Selfie!\\n\\nThanks to the scientists for their tireless efforts on vaccine devel\\xe2\\x80\\xa6'\n",
      "b'RT @EpochTimes: #Pfizer and #BioNTech plan to give volunteers who received a placebo in its #VaccineTrial an option to receive a 1st dose o\\xe2\\x80\\xa6'\n",
      "b'RT @mojos55: The Prime Murderer is on #Marr tomorrow,\\n\\nTo state what ? Further Lies .... \\nTo explain how his #Eugenic Herd plan is coming a\\xe2\\x80\\xa6'\n",
      "b'RT @asshauer: Word!\\xf0\\x9f\\x98\\xa2 #corvidioten #Corona #COVID19 #winterberg #harz #fichtelberg #CoronaVirusDE #Coronakrise #Schuloeffnungen #CoronaVacci\\xe2\\x80\\xa6'\n"
     ]
    },
    {
     "name": "stdout",
     "output_type": "stream",
     "text": [
      "b'3 crore health care and front line workers to receive free #Coronavaccines by the Indian government. @BJP4India\\xe2\\x80\\xa6 https://t.co/xyu0HEIaWp'\n",
      "b'RT @stephensgaskets: The COVID19 pandemic has brought with it many challenges.  A virus new to the world that we currently have no vaccine\\xe2\\x80\\xa6'\n",
      "b'RT @stephensgaskets: Full face clear #ProtectiveVisor 4 #BaseballCaps\\nCall 0121 544 5808 Today\\n\\nDiscover more..https://t.co/13RKfxm0Ug\\n#PPE\\xe2\\x80\\xa6'\n",
      "b'Pune: Covid-19 Vaccine Doses To Be Given To 75 Health Workers\\n\\n#healthworker #vaccine #covid19 #coronawarrior\\n\\nhttps://t.co/bdgikiqcx9'\n",
      "b'RT @WHO: As #COVID19 vaccines are rolled out, #healthworkers need to know how to administer them safely &amp; effectively. WHO, @UNICEF &amp; partn\\xe2\\x80\\xa6'\n",
      "b'RT @kelly2277: \\xf0\\x9f\\x94\\xa5Proud Boys are planning to stage violence and blame Antifa and BLM on January 6th! There plan will backfire if we don\\xe2\\x80\\x99t sho\\xe2\\x80\\xa6'\n",
      "b'United States Corona virus\\nCases : 20,867,714\\nDeaths : 358,485 \\nRecovered : 12,315,219 Projections \\nClosed Cases\\n12\\xe2\\x80\\xa6 https://t.co/TEkZb6s9Uf'\n",
      "b'@chrisfradkin @SenTedCruz But I got my vaccine AHEAD of #FrontLineHeroes to prove it was a hoax! I\\xe2\\x80\\x99m a Punk and a TRAITOR!'\n",
      "b'RT @surnell: Any Firmware experts and Hardware Engineers (Metrology knowledge preferred). #CoronaWarriors may get priority'\n",
      "b'The most rewarding things in life are seldomly easy. \\n\\nMake the effort.\\n\\n#homeschool https://t.co/ixbDkcnqcc'\n",
      "b\"RT @HorseLoversMath: Horse Lover's Math's latest newsletter is out now offering a FREE #horsemath DL and links to fun, #distancelearning co\\xe2\\x80\\xa6\"\n",
      "b'Just finished our #hometasking evening in aid of Homeless Link - @AlexHorne you are an evil man \\xf0\\x9f\\x98\\x86'\n",
      "b'20% off everything 01/02 \\xe2\\x80\\x93 01/04 / 2021 https://t.co/OtqXLOHwnw\\n #CreatorsUnite #Shop #ICONIC T-SHIRTS &amp; MERCH Purc\\xe2\\x80\\xa6 https://t.co/aHcLzWf40G'\n",
      "b\"RT @CyndyTrivella: It's easy to build company culture through shared experiences. But what can you do when people are working from home?\\n\\nR\\xe2\\x80\\xa6\"\n",
      "b'Taking a lot of shit from so called friends about the vaccine.  If you aren\\xe2\\x80\\x99t on board it\\xe2\\x80\\x99s a deal breaker for me.\\xe2\\x80\\xa6 https://t.co/jfqtlnBQL5'\n",
      "b'RT @cumbriaoldrural: After watching #Casualty we must take care of our older family members and #StayAtHome https://t.co/SXrg8lJ2nE'\n",
      "b'RT @freckledpedidoc: Here\\xe2\\x80\\x99s my Sleepy Post-Call #CovidVaccine Selfie!\\n\\nThanks to the scientists for their tireless efforts on vaccine devel\\xe2\\x80\\xa6'\n",
      "b\"@CarolineBrady17 @HSELive @AnthonyICHH @ProfJohnCrown If you're restricting movements which is what #hse advise for\\xe2\\x80\\xa6 https://t.co/rO67OUHVpW\"\n",
      "2021-01-03 - 2021-01-04\n",
      "b'A week from tomorrow, 01/11/21 is the LAST DAY to register for a mail-in-ballot! Check out all the candidates and o\\xe2\\x80\\xa6 https://t.co/8R7RC1MbnG'\n",
      "b'RT @ricklevy67: A.M.A Chief Dr Omar Khorshid says @GladysB is putting the rest of Australia at risk by playing the odds with masks and not\\xe2\\x80\\xa6'\n"
     ]
    },
    {
     "name": "stderr",
     "output_type": "stream",
     "text": [
      "Rate limit reached. Sleeping for: 773\n"
     ]
    },
    {
     "name": "stdout",
     "output_type": "stream",
     "text": [
      "b'RT @olddiesel: Fuck regardless of zero covid or no zero covid.\\n\\nThe current situation is totally unsustainable. \\n\\nEven if the only thing yo\\xe2\\x80\\xa6'\n",
      "b'RT @IngrahamAngle: An area VP of Chicago Teachers Union has been adamantly opposed to return to in-school classes because \"it\\'s unsafe duri\\xe2\\x80\\xa6'\n",
      "b'RT @natoshisakamato: Repost: \\xe2\\x80\\x9c...Covid-19 is the institution of control necessary to convert the planet from a democratic process to a tech\\xe2\\x80\\xa6'\n",
      "b'RT @mmw_lmw: #SARSCoV2 detection in #COVID19 | Saliva is more sensitive than nasopharyngeal swabs | Albert Ko @YaleSPH @medrxivpreprint htt\\xe2\\x80\\xa6'\n",
      "b'@sltrib @SpencerJCox quickly approaching 1300 dead ... now a botched vaccine rollout...\\n\\n@SpencerJCox is in charge\\xe2\\x80\\xa6 https://t.co/G9bg6xnkje'\n",
      "b'@ambkcsingh @pfizer Well, true, this is not a favour to anyone giant vaccine maker to protect from #NCov #Covid19 v\\xe2\\x80\\xa6 https://t.co/pZUEK7sAzm'\n",
      "b'RT @Laurie_Garrett: Ladies &amp; Gentlemen, meet the enemy.\\nI give you #nCoV2019 #NovelCoronavirus\\n\\nhttps://t.co/GPfEmSZVXz https://t.co/RKDim1\\xe2\\x80\\xa6'\n",
      "b'RT @CDCgov: If you have recovered from #COVID19, still #WearAMask. Cases of reinfection have been reported but remain rare. Reinfection mea\\xe2\\x80\\xa6'\n",
      "b\"Great tips for waking up without feeling exhausted and getting a good night's sleep...\\n#pandemic #Advice\\xe2\\x80\\xa6 https://t.co/9r5SvqQaf1\"\n",
      "b'In the news: Coronavirus in DC, Maryland, Virginia: What to Know on Jan. 3 https://t.co/NUthBr61On #coronavirus #COVID19 #2019ncov'\n",
      "b'A very educational thread on the #COVID procedures in place when entering #SouthKorea. Thorough #testing and rigoro\\xe2\\x80\\xa6 https://t.co/8rjR2A1ZR4'\n",
      "b'RT @CardiacCN: Yes @britainsocean city, the the yellow Plymouth line graph is not as steep but we are far from being out of the woods. Our\\xe2\\x80\\xa6'\n",
      "b'America needs a strictly enforced mandatory #nationallockdown to #FlattenTheCurve. https://t.co/RJChWtyeSf'\n",
      "b'RT @hyssopbeautyllc: On the 10th day of Hyssop, my true love gave to me,\\nten clean fingers!\\n\\nToday only, get 2 bottles of #HandSanitizer sp\\xe2\\x80\\xa6'\n",
      "b\"RT @readeandwrite: It's episode 28 of #BookEm! Join @VClinebarton as she talks about #holidays in #lockdown!\\n\\nDebuts at 1:45 p.m. Eastern,\\xe2\\x80\\xa6\"\n",
      "b'RT @polls_unbiased: @mikedebonis @alanhe In general, do you feel the individuals in power are taking coronavirus precautions seriously?\\n\\nFo\\xe2\\x80\\xa6'\n",
      "b'RT @The_Biz_Expert: Remote Meetings.\\n\\nAudio Only vs With Video.\\n\\n#Remote #RemoteWork #RemoteEmployees #RemoteTeam #WFH #WorkFromHome #Freel\\xe2\\x80\\xa6'\n",
      "b'Crickey, leave over and tis back to #workingfromhome #wfh tomorrow...\\n#sundayvibes https://t.co/4Znx088Lyo'\n",
      "b'JOBS JOBS! Join our Earn A Good Living Refferring PPE Leads Programme.  Learn more click here:\\xe2\\x80\\xa6 https://t.co/0svt1ZEgRg'\n",
      "b'@jadymax24 @AbraarKaran You deserve the best protection! Visit us at https://t.co/nNMp1xTHN4 to learn more about ou\\xe2\\x80\\xa6 https://t.co/sNU81jqHyl'\n",
      "b'RT @ClaireerialC18: This country was once enviable but now, sadly, we are a laughing stock run by clowns &amp; liars. People are losing their l\\xe2\\x80\\xa6'\n",
      "b\"RT @GongGotha: I'm gonna pull a Bill Gates Cyril and Zweli Mkhize and Predict a 3rd wave. \\n\\nIf I get suspended @championtenza @SeanGoss31 @\\xe2\\x80\\xa6\"\n",
      "b'#PICS (post-intensive care syndrome). Whether #COVID19, #ARDS, #sepsis, #pneumonia, #sugery, or any other illness i\\xe2\\x80\\xa6 https://t.co/NxOFeCn2ep'\n",
      "b'@RedPilledPoland The #Chinese will sell more. This is good for their business.\\nAnd they\\xe2\\x80\\x99ve proved it by having a su\\xe2\\x80\\xa6 https://t.co/LMevYp2ojP'\n",
      "b'RT @CriticaSinMiedo: Seeing this bunch of STUPID politicians wearing #WuhanVirus masks, makes me SICK !!!\\n\\nJust thinking that these SLUGS h\\xe2\\x80\\xa6'\n",
      "b'RT @KJJorgensen: @GitRDoneLarry @MattWalshBlog Imagine there\\xe2\\x80\\x99s no movies.  It isn\\xe2\\x80\\x99t hard to do.  No tv shows to binge on, no late night tal\\xe2\\x80\\xa6'\n",
      "b'#WearAMask #WashYourHands  #StayHome \\n\\nAn alternative: https://t.co/eDL1r1vsgo'\n",
      "b'RT @ALeighMP: If only Scott Morrison was as ambitious for Australia as he is for himself. My interview on ABC RN Brekkie: https://t.co/MdNn\\xe2\\x80\\xa6'\n",
      "b'RT @BusyDrT: The human fetal #DNA presented in this #vaccine is a single entire genome that contains genomic DNA with all the chromosomes o\\xe2\\x80\\xa6'\n",
      "b'#Canadianscientists work to track new #coronavirusvariant https://t.co/gBHUuo5igy? #coronavirus #Covid_19\\xe2\\x80\\xa6 https://t.co/zEBqiA8mOy'\n",
      "b'RT @PCMohanMP: A defining moment of #India\\xe2\\x80\\x99s fight against #COVID19 as DCGI grants approval to #CoronaVaccines of @SerumInstIndia and @Bhar\\xe2\\x80\\xa6'\n",
      "b'I would not mind going back to work wearing a #FaceShield https://t.co/Wjr21svbMh'\n",
      "b'RT @stephensgaskets: #PPE #FaceShields are great for the protection of #employees and #customers as they protect the eyes, nose and mouth &amp;\\xe2\\x80\\xa6'\n",
      "b'RT @Vastuullisuus: South Africa: Health Workers  Demand  Vaccine  Rollout \\nhttps://t.co/iBpx281vp7\\n#SouthAfrica #HealthWorker #COVID-19 #Va\\xe2\\x80\\xa6'\n",
      "b'50% of #healthworkers are refusing to take the supposed #chinavirus vaccine, smart!  Let the politicians take it fi\\xe2\\x80\\xa6 https://t.co/04HHNBYX0F'\n",
      "b'RT @ILove2Feel: Zusammen. Together. Insieme. Yhdess\\xc3\\xa4. Juntos. \\n\\xe4\\xb8\\x80\\xe7\\xb7\\x92. Birlikte. Sammen. \\xd7\\x99\\xd6\\xb7\\xd7\\x97\\xd6\\xb7\\xd7\\x93.  \\n\\nEveryone! The whole world... \\xf0\\x9f\\x92\\x9a  We will get\\xe2\\x80\\xa6'\n",
      "b'United States Corona virus\\nCases : 21,083,941\\nDeaths : 360,053 \\nRecovered : 12,429,847 Projections \\nClosed Cases\\n12\\xe2\\x80\\xa6 https://t.co/RxXK5wHJgh'\n",
      "b'Night night...weather forecast very chilly....Covid figures..dire ...stay home if you can..#StayHome #StaySafe and\\xe2\\x80\\xa6 https://t.co/6Q9bXOaEzs'\n",
      "b'RT @IASassociation: IAS Officers who kept Nation before self in #FightAgainstCoronavirus at great personal cost.\\n#CoronaWarriors https://t.\\xe2\\x80\\xa6'\n",
      "b'Ok, 2021... I bought a planner. I am cautiously optimistic. \\xf0\\x9f\\xa4\\x9e\\xf0\\x9f\\x8f\\xbb If anything it will be used for homeschooling and me\\xe2\\x80\\xa6 https://t.co/bmnK0Ie8cC'\n",
      "b'DIY Christmas Rock Art https://t.co/iD9kq5JwVY #freehomeschooldeals #fhdhomeschoolers #homeschooling #homeschoolers\\xe2\\x80\\xa6 https://t.co/39poeE6QcL'\n",
      "b'@LeylsTurk We\\xe2\\x80\\x99ve been doing #hometasking (@taskmaster improvisations!), e.g. tallest self-supported structure with\\xe2\\x80\\xa6 https://t.co/5ilJVdGJ10'\n",
      "b'20% off everything 01/02 \\xe2\\x80\\x93 01/04 / 2021 https://t.co/OtqXLOHwnw\\n #CreatorsUnite #Shop #ICONIC T-SHIRTS &amp; MERCH Purc\\xe2\\x80\\xa6 https://t.co/FSk7Cbcc5n'\n",
      "b'Crickey, leave over and tis back to #workingfromhome #wfh tomorrow...\\n#sundayvibes https://t.co/4Znx088Lyo'\n",
      "b'#WearAMask #WashYourHands  #StayHome \\n\\nAn alternative: https://t.co/eDL1r1vsgo'\n",
      "b'Live life balanced &amp; mask up. \\xf0\\x9f\\x92\\x9a\\n.\\n.\\n#stayathome #sundayvibes #wearamask #maskup \\n.\\n.\\nhttps://t.co/KbH8lixy7q https://t.co/UHdCnQuHwP'\n",
      "b'#WearAMask #WashYourHands  #StayHome \\n\\nAn alternative: https://t.co/eDL1r1vsgo'\n",
      "b'RT @murphy_doodle: This was Him Indoors &amp; me at Christmas. Today his quick #Covid nasal test at work was positive. Now going for main test.\\xe2\\x80\\xa6'\n",
      "2021-01-04 - 2021-01-05\n",
      "b'\\xf0\\x9f\\x93\\xb7 The NBA is enforcing these COVID rules, how is everyone feeling about these? \\xe2\\x80\\xa2 \\xe2\\x80\\xa2 \\xe2\\x80\\xa2 \\xe2\\x80\\xa2 #coronaviruspandemic #corona\\xe2\\x80\\xa6 https://t.co/QbQslAMpWb'\n",
      "b'RT @leader_truth: DANGERS OF COVID-19 VACCINES!\\n\\nDr Stella Emmanuel warns about the danger of the Covid 19 Vaccine by Pfizer and Moderna\\n\\n#\\xe2\\x80\\xa6'\n",
      "b'RT @Sonia_Sparkles: HEY! \\n\\n#Boris forgot to mention some very important #lockdown advice! \\n\\nSo I drew it for you \\xf0\\x9f\\x91\\x8d \\n\\n#covid #MentalHealthMa\\xe2\\x80\\xa6'\n",
      "b\"RT @barbetta1: @MerlinofCanada It's like nothing happened. UCP didn't lose jobs. In fact they have more free time. And we're still paying A\\xe2\\x80\\xa6\"\n",
      "b'RT @Tim_Bousquet: 4 new cases of COVID-19 announced in Nova Scotia today 1/'\n",
      "b'RT @DrEricDing: BREAKING\\xe2\\x80\\x94UK health minister gives new warning\\xe2\\x80\\x94that the other new South Africa \\xf0\\x9f\\x87\\xbf\\xf0\\x9f\\x87\\xa6 #SARSCoV2 strain could be more infectious\\xe2\\x80\\xa6'\n"
     ]
    },
    {
     "name": "stdout",
     "output_type": "stream",
     "text": [
      "b'RT @HauntedMemphis: Gary, an African American father in Michigan, died at home in his green recliner from #Covid_19. He was turned away fro\\xe2\\x80\\xa6'\n",
      "b'RT @ydeigin: If you hear anyone claim \\xe2\\x80\\x9cwe know the virus didn\\xe2\\x80\\x99t come from a lab\\xe2\\x80\\x9d, don\\xe2\\x80\\x99t buy it \\xe2\\x80\\x94 it may well have. Labs around the globe ha\\xe2\\x80\\xa6'\n",
      "b'RT @edgarvlermamd: The Novel Coronavirus 2019 Epidemic and Kidneys ca. 2020 \\n\\n\\xe2\\x80\\x9cPostulated\\xe2\\x80\\x9d mechanisms: \\n\\xf0\\x9f\\x91\\x89\\xf0\\x9f\\x8f\\xbc Sepsis leading to cytokine storm\\xe2\\x80\\xa6'\n",
      "b\"@TrashStros @RationalAstros @hennybdub @ImMasterChris @DAVIDprice24 https://t.co/bvbsSdOAGk\\n\\nThe distinction you're\\xe2\\x80\\xa6 https://t.co/ncYwxc4MId\"\n",
      "b'RT @MHealthFairview: Early in the #pandemic, marketing firm @imprintengine  leveraged their supply chain to help source #PPE. Deep into the\\xe2\\x80\\xa6'\n",
      "b'In the news: 347 more coronavirus cases reported in Maine, one new death https://t.co/TaoZur80ph #coronavirus #COVID19 #2019ncov'\n",
      "b'https://t.co/DFyAzxRaVt\\n\\n#Flowers from #Amsterdam #dragonlilly #facemask #facemasksforsale #COVID19 #Quarantine #mask'\n",
      "b'#COVID19Update (4 Jan): 207 new confirmed cases (143 community cases, 64 returnees from abroad), no new death, and\\xe2\\x80\\xa6 https://t.co/xC7GGhxQfT'\n",
      "b\"MB COVID chart update: \\n118 new cases\\n7 day avg up slightly to 142\\n\\nWouldn't make much of anything yet - expecting\\xe2\\x80\\xa6 https://t.co/mX7LkMAy7k\"\n",
      "b'RT @MHealthFairview: Early in the #pandemic, marketing firm @imprintengine  leveraged their supply chain to help source #PPE. Deep into the\\xe2\\x80\\xa6'\n",
      "b'RT @skinnylilbih: what alternatives? are we just gonna have a big Kahoot? #alevels #lockdown'\n",
      "b'Even though we have started a new year, #mmeriforumradio encourages you to continue to #WearYourMask,\\xe2\\x80\\xa6 https://t.co/OuDva0BGPz'\n",
      "b'2021 #WorkFromHome addition. @LumeCube, but it\\xe2\\x80\\x99s the 10 year old paper shredder base that really makes this\\xe2\\x80\\xa6 https://t.co/OezcH8sj9l'\n",
      "b'Working mom? How are you holding up?\\n\\n#workingmom #workingfromhome #femaleentrepreneur https://t.co/AZjc7ueYoH'\n",
      "b'RT @MHealthFairview: Early in the #pandemic, marketing firm @imprintengine  leveraged their supply chain to help source #PPE. Deep into the\\xe2\\x80\\xa6'\n",
      "b'One of our newest models is a VERY similar fit to the #1860s.  #NIOSH #N95 approved from a #USA business - right he\\xe2\\x80\\xa6 https://t.co/kwFAGxfBN5'\n",
      "b'@DrDomPimenta @mancunianmedic @piersmorgan @GMB @reallorraine Look at the incredible \\xe2\\x80\\x98coincidence\\xe2\\x80\\x99 of these\\xe2\\x80\\xa6 https://t.co/jgL20dAV2w'\n",
      "b'RT @TaisonBell: We\\xe2\\x80\\x99re not anywhere near #HerdImmunity and it will be several months before we get there. But hospitals are under immense st\\xe2\\x80\\xa6'\n",
      "b'RT @WHO: #China has reported to WHO a cluster of #pneumonia cases \\xe2\\x80\\x94with no deaths\\xe2\\x80\\x94 in Wuhan, Hubei Province \\xf0\\x9f\\x87\\xa8\\xf0\\x9f\\x87\\xb3 . Investigations are underwa\\xe2\\x80\\xa6'\n",
      "b'RT @TibetPeople: #China is Country that no one is safe, today #JackMa facing that, #CCP is treats not just for Chinese people, its around t\\xe2\\x80\\xa6'\n",
      "b'RT @JohnStauber: One Year Ago: \\xe2\\x80\\x9cExperts parse limited information about mystery outbreak in China\\xe2\\x80\\x9d #WuhanVirus #wuhan #covid https://t.co/D\\xe2\\x80\\xa6'\n",
      "b'@Shawn_Farash I\\xe2\\x80\\x99m sure it also came from China #kungflu'\n",
      "b\"RT @MSCollegeOpp: This is the state of affairs in my city and it's absolutely devastating . . . #WearAMask #COVID19 https://t.co/8119chKOYD\"\n",
      "b'Daily Update on Vaccine Doses Administered Worldwide\\n\\n13 million COVID-19 vaccination doses administered worldwide\\xe2\\x80\\xa6 https://t.co/AHuxwNg1E7'\n",
      "b'If #vaccines become readily available, will #MailInBallots (raising the question of #voterfraud) continue to be so heavily encouraged?'\n",
      "b'@ABPNews 1. \\nThe #geopolitical_world is all about #Arms #Pharma #Oil\\n\\nWhat we see today is #Pharma_War. The attack\\xe2\\x80\\xa6 https://t.co/bxcexivZm1'\n",
      "b'When India became vaccine hub pre new India or post new India... just curious #coronavaccines'\n",
      "b'RT @Bernieadufe: Dear people who wear face shield without a face mask, you are NOT safe from catching or spreading covid! Please wear a fac\\xe2\\x80\\xa6'\n",
      "b'RT @Burlington_UK: Whilst we wait to be called for vaccination, keep your #COVID19 #PPE stock levels topped-up. We have a wide range of pro\\xe2\\x80\\xa6'\n",
      "b'RT @CTVNews: A South Dakota health worker who was set to receive a COVID-19 vaccine shot from his boyfriend, a nurse, had a surprise waitin\\xe2\\x80\\xa6'\n",
      "b'RT @DrBakerPhD: Free support for physicians \\xf0\\x9f\\x92\\x99\\n\\n#COVID19Pandemic #physicians #doctors #help #coronavirus #Mentalhealth #COVID\\xe3\\x83\\xbc19 #COVIDfront\\xe2\\x80\\xa6'\n",
      "b'RT @BGlovesoff: \"Let\\'s not give Donald tRump what he wants\"\\nChaos &amp; violence\\nLet the \\'boys\\' gather &amp; make some noise. Don\\'t give them an au\\xe2\\x80\\xa6'\n",
      "b'United States Corona virus\\nCases : 21,314,266\\nDeaths : 361,577 \\nRecovered : 12,665,110 Projections \\nClosed Cases\\n13\\xe2\\x80\\xa6 https://t.co/tYYC7XawYF'\n",
      "b'#frontlineworkers #FrontLineHeroes #NHS from the \\xf0\\x9f\\x90\\xb4 \\xf0\\x9f\\x91\\x84 #UKlockdown #coronavirus #lockdown2021 https://t.co/SVuuuOhYbu'\n",
      "b'RT @ishdeep_kohli: #Coronavirus News:\\n#Mumbai sees three #COVID19\\ndeaths\\xe2\\x80\\x942nd day in a row\\nLowest since March last year\\n#MissionZero\\xe2\\x80\\x94Yes #Mu\\xe2\\x80\\xa6'\n",
      "b'Grammar Workbook Set | Student Workbook and Answer Key - Brookdale House - https://t.co/nz2LXHHpsF #homeschool #homeschooling'\n",
      "b\"RT @gregfoot: \\xf0\\x9f\\x93\\xa2 Our live family science show #letsgolive will be returning to help with #homeschooling!\\n\\nWe're aiming for 3 shows a week: M\\xe2\\x80\\xa6\"\n",
      "b\"Writing a new timetable for my daughter's lockdown learning is a bit grim now that we aren't allocating an hour for\\xe2\\x80\\xa6 https://t.co/hHYnag7Kgz\"\n",
      "b'2. How does it infect people? - Exposing the #Coronavirus : Our Invisible ... https://t.co/oEPvc6NPkY via @YouTube\\xe2\\x80\\xa6 https://t.co/AZKCJiTa5r'\n",
      "b'RT @RemoteWorkerUK: NEW JOB LIVE NOW - .Net Developer - Mid/Senior (C#, WPF, SQL) at Oscar Associates (UK) Limited (South West, Bristol): .\\xe2\\x80\\xa6'\n",
      "b'Even though we have started a new year, #mmeriforumradio encourages you to continue to #WearYourMask,\\xe2\\x80\\xa6 https://t.co/OuDva0BGPz'\n",
      "b'RT @DougChapmanSNP: Thanks to @NicolaSturgeon for her continued decisive leadership. These are not easy decisions &amp; difficult for those tak\\xe2\\x80\\xa6'\n",
      "b'RT @AdamCrafton_: Only safe and sensible thing to do now, in the national interest, is curtail the season and award #mufc the title on poin\\xe2\\x80\\xa6'\n",
      "b'Mutual Aid Road Reps Community InitiativeMA|RR is here for you if you need help with... \\n\\n\\xf0\\x9f\\x92\\x9a Shopping\\n\\xf0\\x9f\\x92\\x9b Prescription\\xe2\\x80\\xa6 https://t.co/dm1D3uAch8'\n"
     ]
    }
   ],
   "source": [
    "noOfSearch = 1\n",
    "test = twitterProcess.ins_twitter_tweets_loop(firstdate = firstdate, lastdate = lastdate, noOfSearch = noOfSearch)\n",
    "test"
   ]
  },
  {
   "cell_type": "code",
   "execution_count": 1548,
   "metadata": {},
   "outputs": [],
   "source": [
    "dbConn.close()"
   ]
  },
  {
   "cell_type": "code",
   "execution_count": 806,
   "metadata": {},
   "outputs": [
    {
     "data": {
      "text/html": [
       "<div>\n",
       "<style scoped>\n",
       "    .dataframe tbody tr th:only-of-type {\n",
       "        vertical-align: middle;\n",
       "    }\n",
       "\n",
       "    .dataframe tbody tr th {\n",
       "        vertical-align: top;\n",
       "    }\n",
       "\n",
       "    .dataframe thead th {\n",
       "        text-align: right;\n",
       "    }\n",
       "</style>\n",
       "<table border=\"1\" class=\"dataframe\">\n",
       "  <thead>\n",
       "    <tr style=\"text-align: right;\">\n",
       "      <th></th>\n",
       "      <th>firstdate</th>\n",
       "      <th>lastdate</th>\n",
       "    </tr>\n",
       "  </thead>\n",
       "  <tbody>\n",
       "    <tr>\n",
       "      <th>0</th>\n",
       "      <td>2020-11-15</td>\n",
       "      <td>2021-01-03 11:58:05.629151</td>\n",
       "    </tr>\n",
       "  </tbody>\n",
       "</table>\n",
       "</div>"
      ],
      "text/plain": [
       "   firstdate                   lastdate\n",
       "0 2020-11-15 2021-01-03 11:58:05.629151"
      ]
     },
     "execution_count": 806,
     "metadata": {},
     "output_type": "execute_result"
    }
   ],
   "source": [
    "dfTweetDates"
   ]
  },
  {
   "cell_type": "code",
   "execution_count": 807,
   "metadata": {},
   "outputs": [
    {
     "data": {
      "text/plain": [
       "firstdate    datetime64[ns]\n",
       "lastdate     datetime64[ns]\n",
       "dtype: object"
      ]
     },
     "execution_count": 807,
     "metadata": {},
     "output_type": "execute_result"
    }
   ],
   "source": [
    "dfTweetDates.dtypes"
   ]
  },
  {
   "cell_type": "code",
   "execution_count": 808,
   "metadata": {},
   "outputs": [],
   "source": [
    "#df_tips_day_gender = pd.DataFrame(sqlStmRes, columns =['cant','sex','CustomerGroup'])\n",
    "#df_tips_day_gender"
   ]
  },
  {
   "cell_type": "code",
   "execution_count": 746,
   "metadata": {},
   "outputs": [],
   "source": [
    "searchTerms = [\"corona\", \"#corona\", \"coronavirus\", \"#coronavirus\", \"covid\", \"#covid\", \"covid19\", \"#covid19\", \"covid-19\", \"#covid-19\", \"sarscov2\", \"#sarscov2\", \"sars cov2\", \n",
    "\"sars cov 2\", \"covid_19\", \"#covid_19\", \"#ncov\", \"ncov\", \"#ncov2019\", \"ncov2019\", \"2019-ncov\", \"#2019-ncov\", \"pandemic\", \"#pandemic\" \"#2019ncov\", \"2019ncov\",\n",
    "\"quarantine\", \"#quarantine\", \"flatten the curve\", \"flattening the curve\", \"#flatteningthecurve\", \"#flattenthecurve\", \"hand sanitizer\", \"#handsanitizer\",\n",
    "\"#lockdown\", \"lockdown\", \"social distancing\", \"#socialdistancing\", \"work from home\", \"#workfromhome\", \"working from home\", \"#workingfromhome\", \"ppe\", \"n95\",\n",
    "\"#ppe\", \"#n95\", \"#covidiots\", \"covidiots\", \"herd immunity\", \"#herdimmunity\", \"pneumonia\", \"#pneumonia\", \"chinese virus\", \"#chinesevirus\", \"wuhan virus\",\n",
    "\"#wuhanvirus\", \"kung flu\", \"#kungflu\", \"wearamask\", \"#wearamask\", \"wear a mask\", \"vaccine\", \"vaccines\", \"#vaccine\", \"#vaccines\", \"corona vaccine\",\n",
    "\"corona vaccines\", \"#coronavaccine\", \"#coronavaccines\", \"face shield\", \"#faceshield\", \"face shields\", \"#faceshields\", \"health worker\", \"#healthworker\", \n",
    "\"health workers\", \"#healthworkers\", \"#stayhomestaysafe\", \"#coronaupdate\", \"#frontlineheroes\", \"#coronawarriors\", \"#homeschool\", \"#homeschooling\",\n",
    "\"#hometasking\", \"#masks4all\", \"#wfh\", \"wash ur hands\", \"wash your hands\", \"#washurhands\", \"#washyourhands\", \"#stayathome\", \"#stayhome\", \"#selfisolating\",\n",
    "\"self isolating\"]"
   ]
  },
  {
   "cell_type": "code",
   "execution_count": 785,
   "metadata": {},
   "outputs": [
    {
     "name": "stdout",
     "output_type": "stream",
     "text": [
      "0 , corona\n",
      "1 , #corona\n",
      "2 , coronavirus\n",
      "3 , #coronavirus\n",
      "4 , covid\n",
      "5 , #covid\n",
      "6 , covid19\n",
      "7 , #covid19\n",
      "8 , covid-19\n",
      "9 , #covid-19\n",
      "10 , sarscov2\n",
      "11 , #sarscov2\n",
      "12 , sars cov2\n",
      "13 , sars cov 2\n",
      "14 , covid_19\n",
      "15 , #covid_19\n",
      "16 , #ncov\n",
      "17 , ncov\n",
      "18 , #ncov2019\n",
      "19 , ncov2019\n",
      "20 , 2019-ncov\n",
      "21 , #2019-ncov\n",
      "22 , pandemic\n",
      "23 , #pandemic#2019ncov\n",
      "24 , 2019ncov\n",
      "25 , quarantine\n",
      "26 , #quarantine\n",
      "27 , flatten the curve\n",
      "28 , flattening the curve\n",
      "29 , #flatteningthecurve\n",
      "30 , #flattenthecurve\n",
      "31 , hand sanitizer\n",
      "32 , #handsanitizer\n",
      "33 , #lockdown\n",
      "34 , lockdown\n",
      "35 , social distancing\n",
      "36 , #socialdistancing\n",
      "37 , work from home\n",
      "38 , #workfromhome\n",
      "39 , working from home\n",
      "40 , #workingfromhome\n",
      "41 , ppe\n",
      "42 , n95\n",
      "43 , #ppe\n",
      "44 , #n95\n",
      "45 , #covidiots\n",
      "46 , covidiots\n",
      "47 , herd immunity\n",
      "48 , #herdimmunity\n",
      "49 , pneumonia\n",
      "50 , #pneumonia\n",
      "51 , chinese virus\n",
      "52 , #chinesevirus\n",
      "53 , wuhan virus\n",
      "54 , #wuhanvirus\n",
      "55 , kung flu\n",
      "56 , #kungflu\n",
      "57 , wearamask\n",
      "58 , #wearamask\n",
      "59 , wear a mask\n",
      "60 , vaccine\n",
      "61 , vaccines\n",
      "62 , #vaccine\n",
      "63 , #vaccines\n",
      "64 , corona vaccine\n",
      "65 , corona vaccines\n",
      "66 , #coronavaccine\n",
      "67 , #coronavaccines\n",
      "68 , face shield\n",
      "69 , #faceshield\n",
      "70 , face shields\n",
      "71 , #faceshields\n",
      "72 , health worker\n",
      "73 , #healthworker\n",
      "74 , health workers\n",
      "75 , #healthworkers\n",
      "76 , #stayhomestaysafe\n",
      "77 , #coronaupdate\n",
      "78 , #frontlineheroes\n",
      "79 , #coronawarriors\n",
      "80 , #homeschool\n",
      "81 , #homeschooling\n",
      "82 , #hometasking\n",
      "83 , #masks4all\n",
      "84 , #wfh\n",
      "85 , wash ur hands\n",
      "86 , wash your hands\n",
      "87 , #washurhands\n",
      "88 , #washyourhands\n",
      "89 , #stayathome\n",
      "90 , #stayhome\n",
      "91 , #selfisolating\n",
      "92 , self isolating\n"
     ]
    }
   ],
   "source": [
    "for i, searchTerm in enumerate(searchTerms):\n",
    "     print (i, \",\",searchTerm)"
   ]
  },
  {
   "cell_type": "code",
   "execution_count": 747,
   "metadata": {},
   "outputs": [
    {
     "data": {
      "text/plain": [
       "'corona -filter:retweets'"
      ]
     },
     "execution_count": 747,
     "metadata": {},
     "output_type": "execute_result"
    }
   ],
   "source": [
    "searchTerm = searchTerms[0] + \" -filter:retweets\"\n",
    "searchTerm"
   ]
  },
  {
   "cell_type": "code",
   "execution_count": 196,
   "metadata": {},
   "outputs": [
    {
     "data": {
      "text/plain": [
       "'96683cc9126741d1'"
      ]
     },
     "execution_count": 196,
     "metadata": {},
     "output_type": "execute_result"
    }
   ],
   "source": [
    "#hashtags = [\"#COVID19\",\"#coronavirus\",\"#vaccination\",\"#lockdown\",]\n",
    "\n",
    "#searchTerms = \"covid+vaccine -filter:retweets\"\n",
    "noOfSearch = 10\n",
    "searchCountry = \"USA\"\n",
    "#searchCountry = \"Spain\"\n",
    "\n",
    "places = api.geo_search(query=searchCountry, granularity=\"country\")\n",
    "place_id = places[0].id\n",
    "place_id"
   ]
  },
  {
   "cell_type": "code",
   "execution_count": 743,
   "metadata": {},
   "outputs": [
    {
     "name": "stdout",
     "output_type": "stream",
     "text": [
      "<class 'datetime.date'>\n",
      "<class 'datetime.date'>\n",
      "2020-11-15\n",
      "2020-11-16\n",
      "2020-11-17\n",
      "2020-11-18\n"
     ]
    }
   ],
   "source": [
    "start_date = dt.date(2020, 11, 15)\n",
    "end_date = dt.date(2020, 11, 18)\n",
    "\n",
    "print(type(start_date))\n",
    "print(type(end_date))\n",
    "delta = dt.timedelta(days=1)\n",
    "\n",
    "while start_date <= end_date:\n",
    "    print(start_date)\n",
    "    start_date += delta"
   ]
  },
  {
   "cell_type": "code",
   "execution_count": 1233,
   "metadata": {},
   "outputs": [
    {
     "data": {
      "text/plain": [
       "'self isolating'"
      ]
     },
     "execution_count": 1233,
     "metadata": {},
     "output_type": "execute_result"
    }
   ],
   "source": [
    "searchTerm"
   ]
  },
  {
   "cell_type": "code",
   "execution_count": 1234,
   "metadata": {},
   "outputs": [
    {
     "data": {
      "text/plain": [
       "1"
      ]
     },
     "execution_count": 1234,
     "metadata": {},
     "output_type": "execute_result"
    }
   ],
   "source": [
    "noOfSearch"
   ]
  },
  {
   "cell_type": "code",
   "execution_count": 913,
   "metadata": {},
   "outputs": [
    {
     "name": "stdout",
     "output_type": "stream",
     "text": [
      "<class 'datetime.datetime'>\n"
     ]
    }
   ],
   "source": [
    "test = sqlite3DbHelper.get_timestamp_now()\n",
    "print(type(test))"
   ]
  },
  {
   "cell_type": "code",
   "execution_count": 1436,
   "metadata": {},
   "outputs": [
    {
     "name": "stdout",
     "output_type": "stream",
     "text": [
      "0\n",
      "{'created_at': 'Tue Dec 29 23:57:36 +0000 2020', 'id': 1344070094167695361, 'id_str': '1344070094167695361', 'text': 'South Carolina DHEC reporting that the state has received over 112K vaccines, but so far has administered only 31K.… https://t.co/evYKlcbHR4', 'truncated': True, 'entities': {'hashtags': [], 'symbols': [], 'user_mentions': [], 'urls': [{'url': 'https://t.co/evYKlcbHR4', 'expanded_url': 'https://twitter.com/i/web/status/1344070094167695361', 'display_url': 'twitter.com/i/web/status/1…', 'indices': [117, 140]}]}, 'metadata': {'iso_language_code': 'en', 'result_type': 'recent'}, 'source': '<a href=\"https://mobile.twitter.com\" rel=\"nofollow\">Twitter Web App</a>', 'in_reply_to_status_id': None, 'in_reply_to_status_id_str': None, 'in_reply_to_user_id': None, 'in_reply_to_user_id_str': None, 'in_reply_to_screen_name': None, 'user': {'id': 4122597982, 'id_str': '4122597982', 'name': 'Joe', 'screen_name': 'Joe__Herrera', 'location': 'East of I-95', 'description': \"Have you ever actually opened a can of worms? They just sit there, the worms. Not nearly the chaos we've been led to believe.\", 'url': 'https://t.co/1vSd9dh5Y4', 'entities': {'url': {'urls': [{'url': 'https://t.co/1vSd9dh5Y4', 'expanded_url': 'http://joesblog.cool', 'display_url': 'joesblog.cool', 'indices': [0, 23]}]}, 'description': {'urls': []}}, 'protected': False, 'followers_count': 143, 'friends_count': 141, 'listed_count': 3, 'created_at': 'Thu Nov 05 22:34:41 +0000 2015', 'favourites_count': 1282, 'utc_offset': None, 'time_zone': None, 'geo_enabled': False, 'verified': False, 'statuses_count': 1628, 'lang': None, 'contributors_enabled': False, 'is_translator': False, 'is_translation_enabled': False, 'profile_background_color': '131516', 'profile_background_image_url': 'http://abs.twimg.com/images/themes/theme14/bg.gif', 'profile_background_image_url_https': 'https://abs.twimg.com/images/themes/theme14/bg.gif', 'profile_background_tile': True, 'profile_image_url': 'http://pbs.twimg.com/profile_images/1344301031270866944/1e7jm3iv_normal.jpg', 'profile_image_url_https': 'https://pbs.twimg.com/profile_images/1344301031270866944/1e7jm3iv_normal.jpg', 'profile_banner_url': 'https://pbs.twimg.com/profile_banners/4122597982/1588388551', 'profile_link_color': '009999', 'profile_sidebar_border_color': 'EEEEEE', 'profile_sidebar_fill_color': 'EFEFEF', 'profile_text_color': '333333', 'profile_use_background_image': True, 'has_extended_profile': True, 'default_profile': False, 'default_profile_image': False, 'following': False, 'follow_request_sent': False, 'notifications': False, 'translator_type': 'none'}, 'geo': None, 'coordinates': None, 'place': None, 'contributors': None, 'is_quote_status': False, 'retweet_count': 0, 'favorite_count': 1, 'favorited': False, 'retweeted': False, 'lang': 'en'}\n",
      "b'South Carolina DHEC reporting that the state has received over 112K vaccines, but so far has administered only 31K.\\xe2\\x80\\xa6 https://t.co/evYKlcbHR4'\n"
     ]
    }
   ],
   "source": [
    "#tweets = tweepy.Cursor(api.search , q=(searchTerm) and (\"place:%s\" % place_id), \n",
    "#                       lang=\"en\",\n",
    "#                       since=\"2020-12-23\",\n",
    "#                       until = \"2020-12-24\").items(noOfSearch)\n",
    "\n",
    "searchTerm = \"#vaccination\"\n",
    "noOfSearch = 1\n",
    "#tweets = tweepy.Cursor(api.search , q=(searchTerm), \n",
    "#                       lang=\"en\",\n",
    "#                       since=\"2020-12-29\",\n",
    "#                       until = \"2020-12-30\").items(noOfSearch)\n",
    "\n",
    "print(len(list(tweets)))\n",
    "\n",
    "for tweet in tweepy.Cursor(api.search,q=(searchTerm),\n",
    "                           lang=\"en\",\n",
    "                           since=\"2020-12-29\",\n",
    "                           until = \"2020-12-30\").items(noOfSearch):\n",
    "#    print (tweet.created_at, tweet.text, tweet.user.location, tweet.place, tweet.coordinates)\n",
    "#for tweet in tweets:\n",
    "    print (tweet._json)\n",
    "    tweet_timestamp = tweet.created_at\n",
    "    tweet_text = tweet.text.encode('utf-8')\n",
    "    tweet_term = searchTerm.encode('utf-8')\n",
    "    \"\"\"\n",
    "    print(tweet_timestamp)\n",
    "    print(type(tweet_timestamp))\n",
    "    print(tweet_text)\n",
    "    print(type(tweet_text))\n",
    "    \"\"\"\n",
    "    if tweet.place:\n",
    "        tweet_place_type = tweet.place.place_type\n",
    "        tweet_place_name = tweet.place.name\n",
    "        tweet_place_full_name = tweet.place.full_name\n",
    "        tweet_place_country_code = tweet.place.country_code\n",
    "        tweet_place_country = tweet.place.country\n",
    "        \"\"\"\n",
    "        print(tweet_place_type)\n",
    "        print(type(tweet_place_type))\n",
    "        \n",
    "        print(tweet_place_name)\n",
    "        print(type(tweet_place_name))\n",
    "        \n",
    "        print(tweet_place_full_name)\n",
    "        print(type(tweet_place_full_name))\n",
    "        \n",
    "        print(tweet_place_country_code)\n",
    "        print(type(tweet_place_country_code))\n",
    "        \n",
    "        print(tweet_place_country)\n",
    "        print(type(tweet_place_country))\n",
    "        \"\"\"\n",
    "    else:\n",
    "        tweet_place_type = \"Undefined\"\n",
    "        tweet_place_name = \"Undefined\"\n",
    "        tweet_place_full_name = \"Undefined\"\n",
    "        tweet_place_country_code = \"Undefined\"\n",
    "        tweet_place_country = \"Undefined\"\n",
    "    \n",
    "    insert_timestamp = dt.datetime.now(dt.timezone.utc)\n",
    "    print(tweet_text)\n",
    "    ins_stm_str = \"\"\"INSERT INTO Tweets (insert_timestamp, tweet_timestamp, tweet_term, tweet, place_type, place_name, place_full_name, place_country_code, place_country) VALUES (?,?,?,?,?,?,?,?,?);\"\"\"\n",
    "    data_tuple = (insert_timestamp, tweet_timestamp, tweet_term, tweet_text, tweet_place_type, tweet_place_name, tweet_place_full_name, tweet_place_country_code, tweet_place_country)\n",
    "    dbConn.query(sqlStm=ins_stm_str, sqlStmPrm=data_tuple)\n",
    "    #dbConn.commit()\n"
   ]
  },
  {
   "cell_type": "code",
   "execution_count": 1296,
   "metadata": {},
   "outputs": [],
   "source": [
    "dbConn.close()"
   ]
  },
  {
   "cell_type": "code",
   "execution_count": 1431,
   "metadata": {},
   "outputs": [
    {
     "name": "stdout",
     "output_type": "stream",
     "text": [
      "2020-12-29 23:57:36 South Carolina DHEC reporting that the state has received over 112K vaccines, but so far has administered only 31K.… https://t.co/evYKlcbHR4 East of I-95 None None\n",
      "2020-12-29 23:55:19 RT @GovMikeDeWine: Ohio’s goals are to save lives and #SlowTheSpread of the virus. In the early #vaccination phase, the focus is on those m… In my garden  None None\n"
     ]
    }
   ],
   "source": [
    "for tweet in tweepy.Cursor(api.search,q=\"#vaccination\",\n",
    "                           lang=\"en\",\n",
    "                           since=\"2020-12-29\",\n",
    "                           until = \"2020-12-30\").items(2):\n",
    "    print (tweet.created_at, tweet.text, tweet.user.location, tweet.place, tweet.coordinates)\n",
    "    #csvWriter.writerow([tweet.created_at, tweet.text.encode('utf-8')])"
   ]
  },
  {
   "cell_type": "code",
   "execution_count": 45,
   "metadata": {},
   "outputs": [],
   "source": [
    "#api = tweepy.API(auth, wait_on_rate_limit=True)"
   ]
  },
  {
   "cell_type": "code",
   "execution_count": 43,
   "metadata": {},
   "outputs": [],
   "source": [
    "#screenname = 'lvescobar'\n",
    "#tweets = api.user_timeline(screenname, count=1)"
   ]
  },
  {
   "cell_type": "code",
   "execution_count": 44,
   "metadata": {},
   "outputs": [],
   "source": [
    "#for tweet in tweets:\n",
    "#    print(tweet.text)"
   ]
  },
  {
   "cell_type": "code",
   "execution_count": 265,
   "metadata": {},
   "outputs": [
    {
     "data": {
      "text/plain": [
       "datetime.datetime(2020, 11, 15, 0, 0)"
      ]
     },
     "execution_count": 265,
     "metadata": {},
     "output_type": "execute_result"
    }
   ],
   "source": [
    "dateTimeObj = dt.datetime(2020, 11, 15)\n",
    "dateTimeObj"
   ]
  },
  {
   "cell_type": "code",
   "execution_count": null,
   "metadata": {},
   "outputs": [],
   "source": []
  }
 ],
 "metadata": {
  "colab": {
   "name": "DSF_FINAL_PROJECT.ipynb",
   "provenance": []
  },
  "kernelspec": {
   "display_name": "Python [conda env:dsfinalproject]",
   "language": "python",
   "name": "conda-env-dsfinalproject-py"
  },
  "language_info": {
   "codemirror_mode": {
    "name": "ipython",
    "version": 3
   },
   "file_extension": ".py",
   "mimetype": "text/x-python",
   "name": "python",
   "nbconvert_exporter": "python",
   "pygments_lexer": "ipython3",
   "version": "3.9.1"
  }
 },
 "nbformat": 4,
 "nbformat_minor": 1
}
