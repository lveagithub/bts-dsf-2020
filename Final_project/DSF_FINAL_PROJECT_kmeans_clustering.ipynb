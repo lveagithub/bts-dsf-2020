{
 "cells": [
  {
   "cell_type": "code",
   "execution_count": 1,
   "metadata": {},
   "outputs": [],
   "source": [
    "%config IPCompleter.greedy=True\n",
    "%load_ext memory_profiler\n",
    "%matplotlib inline\n",
    "%run DSF_FINAL_PROJECT_Helper.ipynb\n",
    "%run DSF_FINAL_PROJECT_Helper_General.ipynb\n",
    "%run DSF_FINAL_PROJECT_Plot.ipynb"
   ]
  },
  {
   "cell_type": "markdown",
   "metadata": {},
   "source": [
    "### Description\n",
    "\n",
    "Implementing Kmean model as part of the \"transfer learning\" methodology"
   ]
  },
  {
   "cell_type": "markdown",
   "metadata": {},
   "source": [
    "<h3 style=\"background-color:powderblue;\">Loading Pre-trained Word2Vec Model</h3>"
   ]
  },
  {
   "cell_type": "code",
   "execution_count": 2,
   "metadata": {},
   "outputs": [
    {
     "name": "stderr",
     "output_type": "stream",
     "text": [
      "INFO - 14:42:05: loading Word2Vec object from word2vec.model\n",
      "INFO - 14:42:05: loading wv recursively from word2vec.model.wv.* with mmap=None\n",
      "INFO - 14:42:05: setting ignored attribute vectors_norm to None\n",
      "INFO - 14:42:05: loading vocabulary recursively from word2vec.model.vocabulary.* with mmap=None\n",
      "INFO - 14:42:05: loading trainables recursively from word2vec.model.trainables.* with mmap=None\n",
      "INFO - 14:42:05: setting ignored attribute cum_table to None\n",
      "INFO - 14:42:05: loaded word2vec.model\n"
     ]
    }
   ],
   "source": [
    "#Loading previously trained Word2Vec model\n",
    "word_vectors = Word2Vec.load(\"word2vec.model\").wv"
   ]
  },
  {
   "cell_type": "markdown",
   "metadata": {},
   "source": [
    "<h3 style=\"background-color:powderblue;\">Training KMeans Model</h3>"
   ]
  },
  {
   "cell_type": "code",
   "execution_count": 3,
   "metadata": {},
   "outputs": [
    {
     "data": {
      "text/plain": [
       "array([[ 0.07540338,  0.01074704, -0.06582195, ..., -0.02623373,\n",
       "         0.00852013,  0.04378984],\n",
       "       [ 0.01639329, -0.04721879,  0.01917083, ...,  0.04354559,\n",
       "         0.08490365, -0.0501828 ],\n",
       "       [ 0.07874706,  0.06687038,  0.03743139, ..., -0.02950877,\n",
       "        -0.08559278, -0.02190159],\n",
       "       ...,\n",
       "       [ 0.09668011, -0.00933639, -0.01882755, ..., -0.04592704,\n",
       "        -0.07622263, -0.04073007],\n",
       "       [ 0.04689763, -0.05270163,  0.03878045, ...,  0.0181615 ,\n",
       "         0.09702074, -0.10023054],\n",
       "       [ 0.05065498, -0.06486151,  0.01897204, ...,  0.00619927,\n",
       "        -0.02360089,  0.01596161]])"
      ]
     },
     "execution_count": 3,
     "metadata": {},
     "output_type": "execute_result"
    }
   ],
   "source": [
    "word_vectors.vectors.astype('double')"
   ]
  },
  {
   "cell_type": "code",
   "execution_count": 4,
   "metadata": {},
   "outputs": [],
   "source": [
    "#Since we need to classify, we area going to need to clusters\n",
    "KMeansModel = KMeans(n_clusters=2, max_iter=1000, random_state=True, n_init=50).fit(X=word_vectors.vectors.astype('double'))"
   ]
  },
  {
   "cell_type": "code",
   "execution_count": 5,
   "metadata": {},
   "outputs": [
    {
     "name": "stderr",
     "output_type": "stream",
     "text": [
      "INFO - 14:42:06: precomputing L2-norms of word weight vectors\n"
     ]
    },
    {
     "data": {
      "text/plain": [
       "[('symptoms', 0.38584989309310913),\n",
       " ('days', 0.22586709260940552),\n",
       " ('jake_laturner', 0.21476401388645172),\n",
       " ('story', 0.21410855650901794),\n",
       " ('daily_coronavirus', 0.2125411033630371),\n",
       " ('🦠', 0.210493266582489),\n",
       " ('sa', 0.21039935946464539),\n",
       " ('public', 0.20879510045051575),\n",
       " ('covid_comfortable', 0.20693394541740417),\n",
       " ('friends', 0.20372441411018372)]"
      ]
     },
     "execution_count": 5,
     "metadata": {},
     "output_type": "execute_result"
    }
   ],
   "source": [
    "#Taking a loook at the positive / negative similarities\n",
    "word_vectors.similar_by_vector(KMeansModel.cluster_centers_[1], topn=10, restrict_vocab=None)"
   ]
  },
  {
   "cell_type": "code",
   "execution_count": 6,
   "metadata": {},
   "outputs": [],
   "source": [
    "#Defining the two cluster centers we need for classifying.\n",
    "#Our information rating is positive or negative (we carried out the neutral o \"0\")\n",
    "positive_cluster_index = 1\n",
    "positive_cluster_center = KMeansModel.cluster_centers_[positive_cluster_index]\n",
    "negative_cluster_center = KMeansModel.cluster_centers_[1-positive_cluster_index]"
   ]
  },
  {
   "cell_type": "code",
   "execution_count": 7,
   "metadata": {},
   "outputs": [],
   "source": [
    "#positive_cluster_center"
   ]
  },
  {
   "cell_type": "code",
   "execution_count": 8,
   "metadata": {},
   "outputs": [],
   "source": [
    "#negative_cluster_center"
   ]
  },
  {
   "cell_type": "code",
   "execution_count": 9,
   "metadata": {},
   "outputs": [],
   "source": [
    "#Calculating clusters and vectors\n",
    "words = pd.DataFrame(word_vectors.vocab.keys())\n",
    "words.columns = ['words']\n",
    "words['vectors'] = words.words.apply(lambda x: word_vectors[f'{x}'])\n",
    "words['cluster'] = words.vectors.apply(lambda x: KMeansModel.predict([np.array(x)]))\n",
    "words.cluster = words.cluster.apply(lambda x: x[0])"
   ]
  },
  {
   "cell_type": "code",
   "execution_count": 10,
   "metadata": {},
   "outputs": [],
   "source": [
    "words['cluster_value'] = [1 if i==positive_cluster_index else -1 for i in words.cluster]\n",
    "words['closeness_score'] = words.apply(lambda x: 1/(KMeansModel.transform([x.vectors]).min()), axis=1)\n",
    "words['sentiment_coeff'] = words.closeness_score * words.cluster_value"
   ]
  },
  {
   "cell_type": "code",
   "execution_count": 11,
   "metadata": {},
   "outputs": [
    {
     "data": {
      "text/html": [
       "<div>\n",
       "<style scoped>\n",
       "    .dataframe tbody tr th:only-of-type {\n",
       "        vertical-align: middle;\n",
       "    }\n",
       "\n",
       "    .dataframe tbody tr th {\n",
       "        vertical-align: top;\n",
       "    }\n",
       "\n",
       "    .dataframe thead th {\n",
       "        text-align: right;\n",
       "    }\n",
       "</style>\n",
       "<table border=\"1\" class=\"dataframe\">\n",
       "  <thead>\n",
       "    <tr style=\"text-align: right;\">\n",
       "      <th></th>\n",
       "      <th>words</th>\n",
       "      <th>vectors</th>\n",
       "      <th>cluster</th>\n",
       "      <th>cluster_value</th>\n",
       "      <th>closeness_score</th>\n",
       "      <th>sentiment_coeff</th>\n",
       "    </tr>\n",
       "  </thead>\n",
       "  <tbody>\n",
       "    <tr>\n",
       "      <th>0</th>\n",
       "      <td>4,000</td>\n",
       "      <td>[-0.063920654, 0.040959604, 0.044367883, 0.088...</td>\n",
       "      <td>1</td>\n",
       "      <td>1</td>\n",
       "      <td>1.012727</td>\n",
       "      <td>1.012727</td>\n",
       "    </tr>\n",
       "    <tr>\n",
       "      <th>1</th>\n",
       "      <td>u.s.</td>\n",
       "      <td>[0.08878458, -0.042585414, -0.087773584, 0.081...</td>\n",
       "      <td>0</td>\n",
       "      <td>-1</td>\n",
       "      <td>1.003965</td>\n",
       "      <td>-1.003965</td>\n",
       "    </tr>\n",
       "    <tr>\n",
       "      <th>2</th>\n",
       "      <td>covid-19_deaths</td>\n",
       "      <td>[-0.0157652, 0.04773497, -0.084967054, -0.0418...</td>\n",
       "      <td>0</td>\n",
       "      <td>-1</td>\n",
       "      <td>1.005249</td>\n",
       "      <td>-1.005249</td>\n",
       "    </tr>\n",
       "    <tr>\n",
       "      <th>3</th>\n",
       "      <td>single_day</td>\n",
       "      <td>[-0.01626454, 0.015796168, 0.08612141, 0.05212...</td>\n",
       "      <td>1</td>\n",
       "      <td>1</td>\n",
       "      <td>1.011506</td>\n",
       "      <td>1.011506</td>\n",
       "    </tr>\n",
       "    <tr>\n",
       "      <th>4</th>\n",
       "      <td>--</td>\n",
       "      <td>[-0.0072290683, -0.0060554845, 0.06939764, 0.0...</td>\n",
       "      <td>1</td>\n",
       "      <td>1</td>\n",
       "      <td>1.004450</td>\n",
       "      <td>1.004450</td>\n",
       "    </tr>\n",
       "    <tr>\n",
       "      <th>5</th>\n",
       "      <td>day</td>\n",
       "      <td>[0.063255735, 0.025054563, -0.10043011, 0.0748...</td>\n",
       "      <td>0</td>\n",
       "      <td>-1</td>\n",
       "      <td>1.002889</td>\n",
       "      <td>-1.002889</td>\n",
       "    </tr>\n",
       "    <tr>\n",
       "      <th>6</th>\n",
       "      <td>mob</td>\n",
       "      <td>[0.089262724, -0.09727907, -0.033364583, 0.068...</td>\n",
       "      <td>1</td>\n",
       "      <td>1</td>\n",
       "      <td>1.000289</td>\n",
       "      <td>1.000289</td>\n",
       "    </tr>\n",
       "    <tr>\n",
       "      <th>7</th>\n",
       "      <td>stop_spending</td>\n",
       "      <td>[-0.09153232, 0.043836623, 0.07361388, -0.0985...</td>\n",
       "      <td>0</td>\n",
       "      <td>-1</td>\n",
       "      <td>1.009398</td>\n",
       "      <td>-1.009398</td>\n",
       "    </tr>\n",
       "    <tr>\n",
       "      <th>8</th>\n",
       "      <td>worried_—</td>\n",
       "      <td>[0.071984805, -0.0006059831, 0.066567436, -0.0...</td>\n",
       "      <td>0</td>\n",
       "      <td>-1</td>\n",
       "      <td>0.999431</td>\n",
       "      <td>-0.999431</td>\n",
       "    </tr>\n",
       "    <tr>\n",
       "      <th>9</th>\n",
       "      <td>freshman_gop</td>\n",
       "      <td>[-0.043518055, 0.045704123, -0.023872497, -0.0...</td>\n",
       "      <td>1</td>\n",
       "      <td>1</td>\n",
       "      <td>1.012325</td>\n",
       "      <td>1.012325</td>\n",
       "    </tr>\n",
       "  </tbody>\n",
       "</table>\n",
       "</div>"
      ],
      "text/plain": [
       "             words                                            vectors  \\\n",
       "0            4,000  [-0.063920654, 0.040959604, 0.044367883, 0.088...   \n",
       "1             u.s.  [0.08878458, -0.042585414, -0.087773584, 0.081...   \n",
       "2  covid-19_deaths  [-0.0157652, 0.04773497, -0.084967054, -0.0418...   \n",
       "3       single_day  [-0.01626454, 0.015796168, 0.08612141, 0.05212...   \n",
       "4               --  [-0.0072290683, -0.0060554845, 0.06939764, 0.0...   \n",
       "5              day  [0.063255735, 0.025054563, -0.10043011, 0.0748...   \n",
       "6              mob  [0.089262724, -0.09727907, -0.033364583, 0.068...   \n",
       "7    stop_spending  [-0.09153232, 0.043836623, 0.07361388, -0.0985...   \n",
       "8        worried_—  [0.071984805, -0.0006059831, 0.066567436, -0.0...   \n",
       "9     freshman_gop  [-0.043518055, 0.045704123, -0.023872497, -0.0...   \n",
       "\n",
       "   cluster  cluster_value  closeness_score  sentiment_coeff  \n",
       "0        1              1         1.012727         1.012727  \n",
       "1        0             -1         1.003965        -1.003965  \n",
       "2        0             -1         1.005249        -1.005249  \n",
       "3        1              1         1.011506         1.011506  \n",
       "4        1              1         1.004450         1.004450  \n",
       "5        0             -1         1.002889        -1.002889  \n",
       "6        1              1         1.000289         1.000289  \n",
       "7        0             -1         1.009398        -1.009398  \n",
       "8        0             -1         0.999431        -0.999431  \n",
       "9        1              1         1.012325         1.012325  "
      ]
     },
     "execution_count": 11,
     "metadata": {},
     "output_type": "execute_result"
    }
   ],
   "source": [
    "words.head(5)"
   ]
  },
  {
   "cell_type": "code",
   "execution_count": 39,
   "metadata": {},
   "outputs": [
    {
     "name": "stdout",
     "output_type": "stream",
     "text": [
      "<class 'pandas.core.frame.DataFrame'>\n",
      "RangeIndex: 187 entries, 0 to 186\n",
      "Data columns (total 6 columns):\n",
      " #   Column           Non-Null Count  Dtype  \n",
      "---  ------           --------------  -----  \n",
      " 0   words            187 non-null    object \n",
      " 1   vectors          187 non-null    object \n",
      " 2   cluster          187 non-null    int64  \n",
      " 3   cluster_value    187 non-null    int64  \n",
      " 4   closeness_score  187 non-null    float64\n",
      " 5   sentiment_coeff  187 non-null    float64\n",
      "dtypes: float64(2), int64(2), object(2)\n",
      "memory usage: 8.9+ KB\n"
     ]
    }
   ],
   "source": [
    "words.info()"
   ]
  },
  {
   "cell_type": "markdown",
   "metadata": {},
   "source": [
    "<h3 style=\"background-color:powderblue;\">Saving the sentiment KMeans Model</h3>"
   ]
  },
  {
   "cell_type": "code",
   "execution_count": 50,
   "metadata": {},
   "outputs": [],
   "source": [
    "#Connecting to sqlite3 database\n",
    "dbConn = Sqlite3Db('social_network.db')"
   ]
  },
  {
   "cell_type": "code",
   "execution_count": 51,
   "metadata": {},
   "outputs": [],
   "source": [
    "CLEAN_TRAINING = True\n",
    "if CLEAN_TRAINING:\n",
    "    dbConn.query('''DROP TABLE IF EXISTS TweetsSentAnalysis; ''')"
   ]
  },
  {
   "cell_type": "code",
   "execution_count": 52,
   "metadata": {},
   "outputs": [],
   "source": [
    "#Creating tweets table\n",
    "dbConn.query('''CREATE TABLE IF NOT EXISTS TweetsSentAnalysis(words TEXT, sentiment_coeff REAL)''')"
   ]
  },
  {
   "cell_type": "code",
   "execution_count": 53,
   "metadata": {},
   "outputs": [],
   "source": [
    "#Cleaning TweetsTraining table\n",
    "if CLEAN_TRAINING:\n",
    "    del_stm_str = \"\"\"DELETE FROM TweetsSentAnalysis;\"\"\"\n",
    "    dbConn.query(sqlStm=del_stm_str)\n",
    "    words[['words', 'sentiment_coeff']].to_sql('TweetsSentAnalysis', con=dbConn.conn, if_exists='append', index=False)"
   ]
  },
  {
   "cell_type": "code",
   "execution_count": 54,
   "metadata": {},
   "outputs": [],
   "source": [
    "dbConn.query('''SELECT words, sentiment_coeff FROM TweetsSentAnalysis; ''')\n",
    "\n",
    "sqlStmSARes = dbConn.cursor.fetchall()\n",
    "#print(type(sqlStmRes))\n",
    "#print(sqlStmRes)\n",
    "df_Tweets_sent_analysis = pd.DataFrame(sqlStmSARes, columns =['words', 'sentiment_coeff'])"
   ]
  },
  {
   "cell_type": "code",
   "execution_count": 55,
   "metadata": {},
   "outputs": [
    {
     "data": {
      "text/html": [
       "<div>\n",
       "<style scoped>\n",
       "    .dataframe tbody tr th:only-of-type {\n",
       "        vertical-align: middle;\n",
       "    }\n",
       "\n",
       "    .dataframe tbody tr th {\n",
       "        vertical-align: top;\n",
       "    }\n",
       "\n",
       "    .dataframe thead th {\n",
       "        text-align: right;\n",
       "    }\n",
       "</style>\n",
       "<table border=\"1\" class=\"dataframe\">\n",
       "  <thead>\n",
       "    <tr style=\"text-align: right;\">\n",
       "      <th></th>\n",
       "      <th>words</th>\n",
       "      <th>sentiment_coeff</th>\n",
       "    </tr>\n",
       "  </thead>\n",
       "  <tbody>\n",
       "    <tr>\n",
       "      <th>0</th>\n",
       "      <td>4,000</td>\n",
       "      <td>1.012727</td>\n",
       "    </tr>\n",
       "    <tr>\n",
       "      <th>1</th>\n",
       "      <td>u.s.</td>\n",
       "      <td>-1.003965</td>\n",
       "    </tr>\n",
       "    <tr>\n",
       "      <th>2</th>\n",
       "      <td>covid-19_deaths</td>\n",
       "      <td>-1.005249</td>\n",
       "    </tr>\n",
       "  </tbody>\n",
       "</table>\n",
       "</div>"
      ],
      "text/plain": [
       "             words  sentiment_coeff\n",
       "0            4,000         1.012727\n",
       "1             u.s.        -1.003965\n",
       "2  covid-19_deaths        -1.005249"
      ]
     },
     "execution_count": 55,
     "metadata": {},
     "output_type": "execute_result"
    }
   ],
   "source": [
    "df_Tweets_sent_analysis.head(3)"
   ]
  },
  {
   "cell_type": "code",
   "execution_count": 56,
   "metadata": {},
   "outputs": [
    {
     "name": "stdout",
     "output_type": "stream",
     "text": [
      "<class 'pandas.core.frame.DataFrame'>\n",
      "RangeIndex: 187 entries, 0 to 186\n",
      "Data columns (total 2 columns):\n",
      " #   Column           Non-Null Count  Dtype  \n",
      "---  ------           --------------  -----  \n",
      " 0   words            187 non-null    object \n",
      " 1   sentiment_coeff  187 non-null    float64\n",
      "dtypes: float64(1), object(1)\n",
      "memory usage: 3.0+ KB\n"
     ]
    }
   ],
   "source": [
    "df_Tweets_sent_analysis.info()"
   ]
  },
  {
   "cell_type": "code",
   "execution_count": 57,
   "metadata": {},
   "outputs": [],
   "source": [
    "#Close database\n",
    "dbConn.close()"
   ]
  },
  {
   "cell_type": "code",
   "execution_count": 40,
   "metadata": {},
   "outputs": [],
   "source": [
    "#words[['words', 'sentiment_coeff']].to_csv('sentiment_dictionary.csv', index=False)"
   ]
  },
  {
   "cell_type": "code",
   "execution_count": null,
   "metadata": {},
   "outputs": [],
   "source": [
    "#Saving the generated sentiment dictionary to our sql database"
   ]
  }
 ],
 "metadata": {
  "kernelspec": {
   "display_name": "Python [conda env:dsfinalproject]",
   "language": "python",
   "name": "conda-env-dsfinalproject-py"
  },
  "language_info": {
   "codemirror_mode": {
    "name": "ipython",
    "version": 3
   },
   "file_extension": ".py",
   "mimetype": "text/x-python",
   "name": "python",
   "nbconvert_exporter": "python",
   "pygments_lexer": "ipython3",
   "version": "3.9.1"
  }
 },
 "nbformat": 4,
 "nbformat_minor": 2
}
