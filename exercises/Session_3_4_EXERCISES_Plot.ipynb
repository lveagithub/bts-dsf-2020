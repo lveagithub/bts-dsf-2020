{
 "metadata": {
  "language_info": {
   "codemirror_mode": {
    "name": "ipython",
    "version": 3
   },
   "file_extension": ".py",
   "mimetype": "text/x-python",
   "name": "python",
   "nbconvert_exporter": "python",
   "pygments_lexer": "ipython3",
   "version": "3.7.3-final"
  },
  "orig_nbformat": 2,
  "kernelspec": {
   "name": "Python 3.7.3 64-bit ('base': conda)",
   "display_name": "Python 3.7.3 64-bit ('base': conda)",
   "metadata": {
    "interpreter": {
     "hash": "2abea0c6f6d5a045d9f741130b4abb2d8eede515790de942d3f7969f6ae3c6b3"
    }
   }
  }
 },
 "nbformat": 4,
 "nbformat_minor": 2,
 "cells": [
  {
   "cell_type": "code",
   "execution_count": 1,
   "metadata": {},
   "outputs": [],
   "source": [
    "import matplotlib.pyplot as plt\n",
    "import seaborn as sns"
   ]
  },
  {
   "source": [
    "<h1 align=\"left\" style=\"font-size:20px\"><b> Bars </b></h1>"
   ],
   "cell_type": "markdown",
   "metadata": {}
  },
  {
   "cell_type": "code",
   "execution_count": null,
   "metadata": {},
   "outputs": [],
   "source": [
    "def sns_barplot_one_var(df, x1, y1, label1, x2, y2, label2, ax_label, ax_title, p_xlim_right, plot_second_bar):\n",
    "    sns.set(style=\"whitegrid\")\n",
    "\n",
    "    # Initialize the matplotlib figure\n",
    "    f, ax = plt.subplots(figsize=(6, 15))\n",
    "\n",
    "    # Plot the total percentage\n",
    "    sns.set_color_codes(\"pastel\")\n",
    "    g1 = sns.barplot(x=x1, y=y1, data=df, label=label1, color=\"b\")\n",
    "\n",
    "    if plot_second_bar:\n",
    "        # Plot the current percentage\n",
    "        sns.set_color_codes(\"muted\")\n",
    "        g2 = sns.barplot(x=x2, y=y2, data=df, label=label2, color=\"b\")\n",
    "\n",
    "    #for index, row in df_grp.iterrows():\n",
    "    #    g2.text(row.name,round(row.Percentage,2), row.Percentage, color='black', ha=\"right\")\n",
    "\n",
    "    # Add a legend and informative axis label\n",
    "    ax.set_title(ax_title, fontsize=16)\n",
    "    ax.legend(ncol=2, loc=\"lower right\", frameon=True)\n",
    "    ax.set(xlim=(0, p_xlim_right), ylabel=\"\",\n",
    "        xlabel=ax_label)\n",
    "    sns.despine(left=True, bottom=True)\n",
    "\n",
    "\n",
    "    plt.show()"
   ]
  },
  {
   "source": [
    "<h1 align=\"left\" style=\"font-size:20px\"><b> Maps </b></h1>"
   ],
   "cell_type": "markdown",
   "metadata": {}
  },
  {
   "cell_type": "code",
   "execution_count": null,
   "metadata": {},
   "outputs": [],
   "source": [
    "def geoLines(df, linewidth, linestyle, title):\n",
    "    world = gpd.read_file(gpd.datasets.get_path('naturalearth_lowres'))\n",
    "\n",
    "    fig, ax = plt.subplots(1, figsize=(20,20))\n",
    "\n",
    "    ax = world.plot(ax=ax, color='white', edgecolor='black')\n",
    "\n",
    "    df.plot(ax=ax, cmap='tab20b', linestyle=linestyle, linewidth=linewidth,  edgecolor='gray')\n",
    "\n",
    "    ax.tick_params(\n",
    "        axis='both', bottom=False, left=False,         \n",
    "        labelbottom=False, labelleft=False)\n",
    "\n",
    "    ax.set_title(title, fontsize=25, pad=10)\n",
    "\n",
    "    plt.show()"
   ]
  }
 ]
}