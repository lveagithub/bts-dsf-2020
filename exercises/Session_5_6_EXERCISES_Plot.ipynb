{
 "cells": [
  {
   "cell_type": "code",
   "execution_count": null,
   "metadata": {},
   "outputs": [],
   "source": [
    "import matplotlib.pyplot as plt\n",
    "from mpl_toolkits.mplot3d import Axes3D\n",
    "from matplotlib import cm\n",
    "from matplotlib.ticker import LinearLocator, FormatStrFormatter\n",
    "from matplotlib.colors import ListedColormap, BoundaryNorm, Normalize\n",
    "import seaborn as sns"
   ]
  },
  {
   "cell_type": "code",
   "execution_count": null,
   "metadata": {},
   "outputs": [],
   "source": [
    "def plot_3d(X, Y, Z, title, cmap):\n",
    "    fig = plt.figure(figsize=(8, 8))\n",
    "    ax = fig.gca(projection='3d')\n",
    "    \n",
    "    #X, Y = np.meshgrid(X, Y)\n",
    "    surf = ax.plot_surface(X, Y, Z, cmap=cmap, linewidth=0, antialiased=False)\n",
    "\n",
    "    # Customize the z axis (Set 3D z limits).\n",
    "    ax.set_zlim(0, 256)\n",
    "\n",
    "    ax.zaxis.set_major_locator(LinearLocator(10))\n",
    "    ax.zaxis.set_major_formatter(FormatStrFormatter('%.02f'))\n",
    "\n",
    "    # Set title\n",
    "    ax.set_title(title)\n",
    "    \n",
    "    # Add a color bar which maps values to colors.\n",
    "    fig.colorbar(surf, shrink=0.5, aspect=5)\n",
    "\n",
    "    plt.show()"
   ]
  },
  {
   "cell_type": "code",
   "execution_count": null,
   "metadata": {},
   "outputs": [],
   "source": [
    "def __plot_3d_rgb_1ax(X, Y, Z, title, cmap, fig, ax):\n",
    "    #Private method\n",
    "    surf = ax.plot_surface(X, Y, Z, cmap=cmap, linewidth=0, antialiased=False)\n",
    "\n",
    "    # Customize the z axis (Set 3D z limits).\n",
    "    ax.set_zlim(0, 256)\n",
    "\n",
    "    ax.zaxis.set_major_locator(LinearLocator(10))\n",
    "    ax.zaxis.set_major_formatter(FormatStrFormatter('%.02f'))\n",
    "\n",
    "    # Set title\n",
    "    ax.set_title(title)\n",
    "    \n",
    "    # Add a color bar which maps values to colors.\n",
    "    #fig.colorbar(surf, shrink=0.5, aspect=5)\n",
    "    #ax.get_figure().colorbar(surf, cax=ax_cbar)\n",
    "    #ax.get_figure().colorbar(surf)"
   ]
  },
  {
   "cell_type": "code",
   "execution_count": null,
   "metadata": {},
   "outputs": [],
   "source": [
    "def plot_3d_rgb_3axes(X, Y, Z1, Z2, Z3, title1, title2, title3, cmap1, cmap2, cmap3):\n",
    "    fig, ((ax1, ax2, ax3)) = plt.subplots(1, 3, figsize=(20, 8), subplot_kw={'projection': '3d'})\n",
    "    #fig, ((ax1, ax2, ax3)) = plt.subplots(1, 3)\n",
    "\n",
    "    #ax1 = fig.gca(projection='3d')\n",
    "    #ax2 = fig.gca(projection='3d')\n",
    "    #ax3 = fig.gca(projection='3d')\n",
    "    \n",
    "    __plot_3d_rgb_1ax(X, Y, Z1, title1, cmap1, fig, ax1)\n",
    "    __plot_3d_rgb_1ax(X, Y, Z2, title2, cmap2, fig, ax2)\n",
    "    __plot_3d_rgb_1ax(X, Y, Z3, title3, cmap3, fig, ax3)\n",
    "\n",
    "    plt.show()"
   ]
  }
 ],
 "metadata": {
  "kernelspec": {
   "display_name": "Python 3",
   "language": "python",
   "name": "python3"
  },
  "language_info": {
   "codemirror_mode": {
    "name": "ipython",
    "version": 3
   },
   "file_extension": ".py",
   "mimetype": "text/x-python",
   "name": "python",
   "nbconvert_exporter": "python",
   "pygments_lexer": "ipython3",
   "version": "3.7.3"
  }
 },
 "nbformat": 4,
 "nbformat_minor": 2
}