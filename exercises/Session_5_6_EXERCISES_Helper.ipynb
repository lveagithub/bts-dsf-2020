{
 "cells": [
  {
   "cell_type": "code",
   "execution_count": null,
   "metadata": {},
   "outputs": [],
   "source": [
    "import numpy as np\n",
    "import pandas as pd\n",
    "import imageio\n",
    "from scipy import misc\n",
    "from skimage import data\n",
    "from scipy import ndimage\n",
    "from enum import Enum"
   ]
  },
  {
   "cell_type": "markdown",
   "metadata": {},
   "source": [
    "<h1 align=\"left\" style=\"font-size:20px\"><b> General Methods </b></h1>"
   ]
  },
  {
   "cell_type": "code",
   "execution_count": null,
   "metadata": {},
   "outputs": [],
   "source": [
    "class SmoothMode(Enum):\n",
    "    GAUSSIANBLUR=\"GaussianBlur\"\n",
    "    DECAY=\"Decay\"\n",
    "    CLIPWEAK=\"CipWeak\"\n"
   ]
  },
  {
   "cell_type": "code",
   "execution_count": null,
   "metadata": {},
   "outputs": [],
   "source": [
    "def smooth_img(image, mode = None):\n",
    "    #mode checking\n",
    "    if not isisinstance(mode, SmoothMode):\n",
    "        raise TypeError('mode must be an instance of SmoothMode Enum')\n",
    "    if mode is None:\n",
    "        return image\n",
    "    elif mode == SmoothMode.GAUSSIANBLUR:\n",
    "        # Gaussian Blurring with width of 3\n",
    "        return filters.gaussian_filter(image,1/8)\n",
    "    elif mode == SmoothMode.DECAY:\n",
    "        # Decay regularization\n",
    "        decay = 0.98\n",
    "        return decay * image\n",
    "    elif mode == SmoothMode.CLIPWEAK:\n",
    "        # Clip weak pixel regularization\n",
    "        percentile = 1\n",
    "        threshold = np.percentile(np.abs(image),percentile)\n",
    "        im[np.where(np.abs(im) < threshold)] = 0\n",
    "        return image\n",
    "    else:\n",
    "        # print error message\n",
    "        raise TypeError('Unknown smooth_img parameter. No smooth_img implemented.')\n",
    "        #print('Unknown smoothing parameter. No smoothing implemented.')\n",
    "        return image "
   ]
  }
 ],
 "metadata": {
  "kernelspec": {
   "display_name": "Python 3",
   "language": "python",
   "name": "python3"
  },
  "language_info": {
   "codemirror_mode": {
    "name": "ipython",
    "version": 3
   },
   "file_extension": ".py",
   "mimetype": "text/x-python",
   "name": "python",
   "nbconvert_exporter": "python",
   "pygments_lexer": "ipython3",
   "version": "3.7.3"
  }
 },
 "nbformat": 4,
 "nbformat_minor": 2
}