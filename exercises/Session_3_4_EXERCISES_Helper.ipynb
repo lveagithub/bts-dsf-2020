{
 "cells": [
  {
   "cell_type": "code",
   "execution_count": 1,
   "metadata": {},
   "outputs": [],
   "source": [
    "import sqlite3\n",
    "import geopandas as gpd\n",
    "from geopy.geocoders import Nominatim\n",
    "from shapely.geometry import Point, LineString\n",
    "from sklearn.linear_model import LinearRegression"
   ]
  },
  {
   "cell_type": "markdown",
   "metadata": {},
   "source": [
    "<h1 align=\"left\" style=\"font-size:20px\"><b> General Methods </b></h1>"
   ]
  },
  {
   "cell_type": "code",
   "execution_count": null,
   "metadata": {},
   "outputs": [],
   "source": [
    "def get_col_vals(_df, _search_col, _tot_val):\n",
    "    lst_analysis = _df[_search_col]\n",
    "    df_analysis = pd.DataFrame({'answer':lst_analysis.values})\n",
    "    df_analysis_grp = df_analysis.groupby('answer').size().reset_index()\n",
    "    df_analysis_grp = df_analysis_grp.rename(columns={\"answer\": \"Answer\", 0: \"Count\"})\n",
    "    df_analysis_grp.insert(2, \"Percentage\", 100 * (df_analysis_grp['Count'] / _tot_val), True)\n",
    "    df_analysis_grp.insert(3, \"Total\", _tot_val, True)\n",
    "    return df_analysis_grp"
   ]
  },
  {
   "cell_type": "code",
   "execution_count": null,
   "metadata": {},
   "outputs": [],
   "source": [
    "#https://docs.python.org/3/library/sqlite3.html\n",
    "class Sqlite3Db:\n",
    "    def __init__(self, name=None):\n",
    "        self.conn = None\n",
    "        self.cursor = None\n",
    "\n",
    "        if name:\n",
    "            self.open(name)\n",
    "    \n",
    "    def open(self, name):\n",
    "        try:\n",
    "            self.conn = sqlite3.connect(name)\n",
    "            self.cursor = self.conn.cursor()\n",
    "        except sqlite3.Error as e:\n",
    "            print(\"Error connecting to database \" + name + \" with message:\" + e.args[0] )\n",
    "    \n",
    "    def close(self):\n",
    "        if self.conn:\n",
    "            self.cursor.close()\n",
    "            self.conn.close()\n",
    "\n",
    "    def query(self,sqlStm):\n",
    "        self.cursor.execute(sqlStm)\n",
    "\n",
    "    #Using these magic methods (__enter__, __exit__) allows you to implement objects which can be used easily with the with statement.\n",
    "    def __enter__(self):\n",
    "        return self.conn\n",
    "    \n",
    "    def __exit__(self,exc_type,exc_value,traceback):\n",
    "        self.close()"
   ]
  },
  {
   "cell_type": "code",
   "execution_count": null,
   "metadata": {},
   "outputs": [],
   "source": [
    "def geolocate(country):\n",
    "    geolocator = Nominatim(user_agent=\"bts_dsf\")\n",
    "    try:\n",
    "        # Geolocate the center of the country\n",
    "        loc = geolocator.geocode(country)\n",
    "        # And return latitude and longitude\n",
    "        return (loc.latitude, loc.longitude)\n",
    "    except:\n",
    "        # Return missing value\n",
    "        return np.nan"
   ]
  },
  {
   "cell_type": "code",
   "execution_count": null,
   "metadata": {},
   "outputs": [],
   "source": [
    "def build_geodf(df, lat_col_name='latitude', lon_col_name='longitude'):\n",
    "    df = df.copy()\n",
    "    lat = df['latitude']\n",
    "    lon = df['longitude']\n",
    "    return gpd.GeoDataFrame(df, geometry=gpd.points_from_xy(lon, lat))"
   ]
  },
  {
   "cell_type": "code",
   "execution_count": 7,
   "metadata": {},
   "outputs": [],
   "source": [
    "def build_linestring(df):\n",
    "    point_source = [Point(xy) for xy in zip(df.source_lon, df.source_lat)]\n",
    "    point_dest = [Point(xy) for xy in zip(df.dest_lon, df.dest_lat)]\n",
    "    \n",
    "    linestring = [LineString(xy) for xy in zip(point_source, point_dest)]\n",
    "    gdf_routes_lines = gpd.GeoDataFrame(df, geometry=linestring)\n",
    "    return gdf_routes_lines"
   ]
  },
  {
   "cell_type": "code",
   "execution_count": null,
   "metadata": {},
   "outputs": [],
   "source": [
    "def predict_age(X_train, Y_train, X_test):\n",
    "    \n",
    "    model = LinearRegression()\n",
    "    model.fit(X_train, Y_train)\n",
    "    \n",
    "    print('intercept:', model.intercept_)\n",
    "    print('slope:', model.coef_)\n",
    "\n",
    "    y_pred = model.predict(X_test)\n",
    "\n",
    "    return y_pred"
   ]
  }
 ],
 "metadata": {
  "kernelspec": {
   "display_name": "Python 3",
   "language": "python",
   "name": "python3"
  },
  "language_info": {
   "codemirror_mode": {
    "name": "ipython",
    "version": 3
   },
   "file_extension": ".py",
   "mimetype": "text/x-python",
   "name": "python",
   "nbconvert_exporter": "python",
   "pygments_lexer": "ipython3",
   "version": "3.7.3"
  }
 },
 "nbformat": 4,
 "nbformat_minor": 2
}
