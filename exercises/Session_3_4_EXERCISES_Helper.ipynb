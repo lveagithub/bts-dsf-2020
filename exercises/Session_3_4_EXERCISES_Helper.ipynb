{
 "metadata": {
  "language_info": {
   "codemirror_mode": {
    "name": "ipython",
    "version": 3
   },
   "file_extension": ".py",
   "mimetype": "text/x-python",
   "name": "python",
   "nbconvert_exporter": "python",
   "pygments_lexer": "ipython3",
   "version": "3.7.3-final"
  },
  "orig_nbformat": 2,
  "kernelspec": {
   "name": "Python 3.7.3 64-bit ('base': conda)",
   "display_name": "Python 3.7.3 64-bit ('base': conda)",
   "metadata": {
    "interpreter": {
     "hash": "2abea0c6f6d5a045d9f741130b4abb2d8eede515790de942d3f7969f6ae3c6b3"
    }
   }
  }
 },
 "nbformat": 4,
 "nbformat_minor": 2,
 "cells": [
  {
   "cell_type": "code",
   "execution_count": null,
   "metadata": {},
   "outputs": [],
   "source": [
    "import sqlite3"
   ]
  },
  {
   "source": [
    "<h1 align=\"left\" style=\"font-size:20px\"><b> General Methods </b></h1>"
   ],
   "cell_type": "markdown",
   "metadata": {}
  },
  {
   "cell_type": "code",
   "execution_count": null,
   "metadata": {},
   "outputs": [],
   "source": [
    "def get_col_vals(_df, _search_col, _tot_val):\n",
    "    lst_analysis = _df[_search_col]\n",
    "    df_analysis = pd.DataFrame({'answer':lst_analysis.values})\n",
    "    df_analysis_grp = df_analysis.groupby('answer').size().reset_index()\n",
    "    df_analysis_grp = df_analysis_grp.rename(columns={\"answer\": \"Answer\", 0: \"Count\"})\n",
    "    df_analysis_grp.insert(2, \"Percentage\", 100 * (df_analysis_grp['Count'] / _tot_val), True)\n",
    "    df_analysis_grp.insert(3, \"Total\", _tot_val, True)\n",
    "    return df_analysis_grp"
   ]
  },
  {
   "cell_type": "code",
   "execution_count": null,
   "metadata": {},
   "outputs": [],
   "source": [
    "#https://docs.python.org/3/library/sqlite3.html\n",
    "class Sqlite3Db:\n",
    "    def __init__(self, name=None):\n",
    "        self.conn = None\n",
    "        self.cursor = None\n",
    "\n",
    "        if name:\n",
    "            self.open(name)\n",
    "    \n",
    "    def open(self, name):\n",
    "        try:\n",
    "            self.conn = sqlite3.connect(name)\n",
    "            self.cursor = self.conn.cursor()\n",
    "        except sqlite3.Error as e:\n",
    "            print(\"Error connecting to database \" + name + \" with message:\" + e.args[0] )\n",
    "    \n",
    "    def close(self):\n",
    "        if self.conn:\n",
    "            self.cursor.close()\n",
    "            self.conn.close()\n",
    "\n",
    "    def query(self,sqlStm):\n",
    "        self.cursor.execute(sqlStm)\n",
    "\n",
    "    #Using these magic methods (__enter__, __exit__) allows you to implement objects which can be used easily with the with statement.\n",
    "    def __enter__(self):\n",
    "        return self.conn\n",
    "    \n",
    "    def __exit__(self,exc_type,exc_value,traceback):\n",
    "        self.close()"
   ]
  }
 ]
}